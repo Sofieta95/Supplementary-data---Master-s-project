{
 "cells": [
  {
   "cell_type": "code",
   "execution_count": 1,
   "metadata": {},
   "outputs": [],
   "source": [
    "import cobra\n",
    "from cobra import Metabolite, Reaction\n",
    "import gurobipy\n",
    "\n",
    "#These three functions are modifications of code by Linn Sandvik.\n",
    "def make_reaction (df, model):\n",
    "    \"\"\"\n",
    "    df: Takes in a dataframe with two columns; metabolite IDs in one and their coefficients (mmol/gDW) in the other. \n",
    "    model: Takes in the model that contains the metabolite objects\n",
    "    Return: This function will returen a reaction with metabolite objects (from the metabolite IDs in the dataframes) with corresponding coefficients from df.\n",
    "    Essentially pairs the coefficients to the metabolite objects already in the model. Important so that both coefficients and other potential attributes already\n",
    "    in the model are all paired to the metabolite.\"\"\"\n",
    "\n",
    "    metabolite_to_coef = {} #Dictionary, maps metabolite object to coef. Float.\n",
    "    for list in df.values.tolist():\n",
    "        metabolite_to_coef[model.metabolites.get_by_id(list[1])] = float(list[0])\n",
    "\n",
    "\n",
    "    reaction = Reaction ()\n",
    "    reaction.add_metabolites(metabolite_to_coef)\n",
    "    return reaction\n",
    "\n",
    "def modify_reaction (reaction, reaction_id, model):\n",
    "\n",
    "    \"\"\"\n",
    "    Reaction: The reaction object\n",
    "    Reaction_id: The ID of the reaction where the attributes are gathered from.\n",
    "    Model: The model that contains the reaction object with reaction ID.\n",
    "    Return: Returns object with the same id, name, substystem, lower- and upper bound as reaction object from model with id = reaction_id.\n",
    "    Returns a rection variable that has the same attributes as the corresponding reaction from the model. Creates a new reaction object that \n",
    "    is connected to the attributes of the existing reaction in the model.\n",
    "    \"\"\"\n",
    "\n",
    "    reaction.id = model.reactions.get_by_id(reaction_id).id + \"new\"\n",
    "    reaction.name = model.reactions.get_by_id(reaction_id).name\n",
    "    reaction.subsystem = model.reactions.get_by_id(reaction_id).subsystem\n",
    "    reaction.lower_bound = model.reactions.get_by_id(reaction_id).lower_bound\n",
    "    reaction.upper_bound = model.reactions.get_by_id(reaction_id).upper_bound\n",
    "    return reaction\n",
    "\n",
    "\n",
    "def new_synthesis_reaction(df, rxn_id, model):\n",
    "    \"\"\"\n",
    "    :param df: DataFrame with two columns: Coefficient (mmol/gDW) and metabolite ID.\n",
    "    :param rxn_id: Reaction ID of the original synthesis Reaction object.\n",
    "    :param model: The metabolic model in use.\n",
    "    :return: New synthesis Reaction object with the metabolites and coefficients from df.\n",
    "    \"\"\"\n",
    "    synthesis_reaction = make_reaction(df, model)\n",
    "    synthesis_reaction = modify_reaction(synthesis_reaction, rxn_id, model)\n",
    "\n",
    "    return synthesis_reaction\n"
   ]
  },
  {
   "cell_type": "code",
   "execution_count": 2,
   "metadata": {},
   "outputs": [
    {
     "name": "stdout",
     "output_type": "stream",
     "text": [
      "Set parameter Username\n",
      "Academic license - for non-commercial use only - expires 2024-04-25\n"
     ]
    }
   ],
   "source": [
    "import pandas as pd \n",
    "import os\n",
    "\n",
    "os.getcwd()\n",
    "os.chdir(\"C:/Users/sofie/OneDrive/Documents/Master - Data/\")\n",
    "iBsu1147 = cobra.io.read_sbml_model(\"iBsu1147.xml\")\n",
    "iBsu1147og = cobra.io.read_sbml_model(\"iBsu1147.xml\")\n",
    "\n",
    "#The name and ID is mixed up. This is changed here so that metabolite.name returns the name, and metabolite id. returns ID.\n",
    "\n",
    "for metabolite in iBsu1147.metabolites:\n",
    "    name = metabolite.id\n",
    "    id = metabolite.name\n",
    "\n",
    "    metabolite.name = name\n",
    "    metabolite.id = id\n",
    "\n",
    "for metabolite in iBsu1147og.metabolites:\n",
    "    name = metabolite.id\n",
    "    id = metabolite.name\n",
    "\n",
    "    metabolite.name = name\n",
    "    metabolite.id = id"
   ]
  },
  {
   "cell_type": "code",
   "execution_count": 3,
   "metadata": {},
   "outputs": [
    {
     "name": "stdout",
     "output_type": "stream",
     "text": [
      "cofactor: 0.406841373641698 C00003[c] + 0.005285365155927 C00005[c] + 0.0235128411879642 C00006[c] + 0.00284963130743174 C00010[c] + 0.117296253333691 C00020[c] + 0.00494595852149485 C00035[c] + 0.0109034381311329 C00044[c] + 0.0257457795723863 C00055[c] + 0.0136320888368966 C00063[c] + 0.0666085520073099 C00076[c] + 0.00652911183605009 C00112[c] + 0.0132614210650826 C00144[c] + 0.00461840878988398 C00234[c] + 14.6838028159594 C00238[c] + 2.11548582540145 C00305[c] + 0.00334427181834891 C00828[c] + 0.0716549927561037 C14819[c] <=> Cofactor[c]\n"
     ]
    }
   ],
   "source": [
    "#COFACTORS AND IONS:\n",
    "#Creating the cofactor synthesis reaction and creating the \"dummy\" metabolite; cofactor.\n",
    "os.chdir(\"C:/Users/sofie/OneDrive/Documents/Master - Data/\")\n",
    "\n",
    "cofactor = Metabolite( id=\"Cofactor[c]\", formula= None, name=\"cofactor\", charge= None, compartment= \"c\")\n",
    "iBsu1147.add_metabolites(cofactor)\n",
    "\n",
    "\n",
    "cofactors_ions_df = pd.read_excel(\"Macromolecule-synthesis.xlsx\",\"Cofactor\") \n",
    "cofac_synthesis= make_reaction(cofactors_ions_df, iBsu1147)\n",
    "cofac_synthesis.name = \"cofac_synthesis\"\n",
    "cofac_synthesis.id = \"cofactor\"\n",
    "cofac_synthesis.lower_bound = -1000.0\n",
    "cofac_synthesis.upper_bound = 1000\n",
    "\n",
    "print(cofac_synthesis)\n"
   ]
  },
  {
   "cell_type": "code",
   "execution_count": 4,
   "metadata": {},
   "outputs": [
    {
     "name": "stdout",
     "output_type": "stream",
     "text": [
      "rxn05294new: 0.925419454369164 C00131[c] + 0.700555089212493 C00286[c] + 0.699717605543381 C00458[c] + 0.921964834234075 C00459[c] <=> 3.24765698335911 C00013[c] + C00039[c]\n"
     ]
    }
   ],
   "source": [
    "#Creating  the DNA synthesis reaction:\n",
    "DNA_df = pd.read_excel(\"Macromolecule-synthesis.xlsx\",\"DNA\")\n",
    "DNA_synthesis = make_reaction(DNA_df, iBsu1147)\n",
    "modify_reaction(DNA_synthesis, \"rxn05294\", iBsu1147)\n",
    "print(DNA_synthesis)"
   ]
  },
  {
   "cell_type": "code",
   "execution_count": 5,
   "metadata": {},
   "outputs": [
    {
     "name": "stdout",
     "output_type": "stream",
     "text": [
      "rxn05295new: 0.810318111715803 C00002[c] + 0.998544094063492 C00044[c] + 0.615467416022917 C00063[c] + 0.665731114102355 C00075[c] --> 3.09006073590457 C00013[c] + cpd11462[c]\n"
     ]
    }
   ],
   "source": [
    "#Creating  the RNA synthesis reaction:\n",
    "#print(iBsu1147.reactions.get_by_id(\"rxn05295\"))\n",
    "RNA_df = pd.read_excel(\"Macromolecule-synthesis.xlsx\",\"RNA\")\n",
    "RNA_synthesis = make_reaction(RNA_df, iBsu1147)\n",
    "\n",
    "RNA_synthesis = modify_reaction(RNA_synthesis, \"rxn05295\", iBsu1147)\n",
    "\n",
    "print(RNA_synthesis)\n",
    "#funker."
   ]
  },
  {
   "cell_type": "code",
   "execution_count": 6,
   "metadata": {},
   "outputs": [
    {
     "name": "stdout",
     "output_type": "stream",
     "text": [
      "rxn10201new: 0.0182341974255657 cpd15529[c] + 0.0735693637318944 cpd15531[c] + 0.0249314494535681 cpd15533[c] + 0.00572228475376097 cpd15536[c] + 0.0231742993712587 cpd15538[c] + 0.00787805688331436 cpd15540[c] + 0.0539093645252547 cpd15695[c] + 0.126715623078546 cpd15696[c] + 0.00871948075130027 cpd15697[c] + 0.146496112576544 cpd15698[c] + 0.248310408774362 cpd15699[c] + 0.0342393244610017 cpd15700[c] + 0.00874458289533326 cpd15707[c] + 0.00210355966996477 cpd15708[c] + 0.00304137577103737 cpd15709[c] + 0.00649442670421581 cpd15710[c] + 0.0152621035720594 cpd15711[c] + 0.00100609393284234 cpd15712[c] + 0.0171698665185669 cpd15713[c] + 0.0290883645054317 cpd15714[c] + 0.00406955959062874 cpd15715[c] + 0.0170092127967557 cpd15722[c] + 0.0399826950157504 cpd15723[c] + 0.0027371377853575 cpd15724[c] + 0.046077495586961 cpd15725[c] + 0.0780777088002198 cpd15726[c] + 0.0107838810765736 cpd15727[c] + 0.014529120966296 cpd15728[c] + 0.00353136962256138 cpd15729[c] + 0.00500938386322398 cpd15730[c] + 0.0107437176461208 cpd15731[c] + 0.0252527568971904 cpd15732[c] + 0.00168887225053973 cpd15733[c] + 0.0286666484856774 cpd15734[c] + 0.048577669132647 cpd15735[c] + 0.00676251760248817 cpd15736[c] + 0.0112357196691674 cpd15737[c] + 0.00277127670124237 cpd15738[c] + 0.0038225544933441 cpd15739[c] + 0.00824956861500265 cpd15740[c] + 0.0193888960510834 cpd15741[c] + 0.001325393204942 cpd15742[c] + 0.0223308673317501 cpd15743[c] + 0.0378339514865263 cpd15744[c] + 0.00522927864495299 cpd15745[c] + 0.00285662399095454 cpd15782[c] + 0.00069623306689908 cpd15783[c] + 0.00098169464884227 cpd15784[c] + 0.00210858009877137 cpd15785[c] + 0.00495516323211272 cpd15786[c] + 0.000332954838453612 cpd15787[c] + 0.00564396606437803 cpd15788[c] + 0.0095619087050475 cpd15789[c] + 0.00132940954798728 cpd15790[c] + 0.000600142059540784 cpd15791[c] + 0.000149006326979843 cpd15792[c] + 0.000203026140938843 cpd15793[c] + 0.000439287520577368 cpd15794[c] + 0.00103220016263665 cpd15795[c] + 0.00119687022749308 cpd15797[c] + 0.00202724915210447 cpd15798[c] + 0.000279236250223008 cpd15799[c] <=> cpd15800[c]\n",
      "rxn10201: 0.01816 cpd15529[c] + 0.07327 cpd15531[c] + 0.02483 cpd15533[c] + 0.005699 cpd15536[c] + 0.02308 cpd15538[c] + 0.007846 cpd15540[c] + 0.05369 cpd15695[c] + 0.1262 cpd15696[c] + 0.008684 cpd15697[c] + 0.1459 cpd15698[c] + 0.2473 cpd15699[c] + 0.0341 cpd15700[c] + 0.008709 cpd15707[c] + 0.002095 cpd15708[c] + 0.003029 cpd15709[c] + 0.006468 cpd15710[c] + 0.0152 cpd15711[c] + 0.001002 cpd15712[c] + 0.0171 cpd15713[c] + 0.02897 cpd15714[c] + 0.004053 cpd15715[c] + 0.01694 cpd15722[c] + 0.03982 cpd15723[c] + 0.002726 cpd15724[c] + 0.04589 cpd15725[c] + 0.07776 cpd15726[c] + 0.01074 cpd15727[c] + 0.01447 cpd15728[c] + 0.003517 cpd15729[c] + 0.004989 cpd15730[c] + 0.0107 cpd15731[c] + 0.02515 cpd15732[c] + 0.001682 cpd15733[c] + 0.02855 cpd15734[c] + 0.04838 cpd15735[c] + 0.006735 cpd15736[c] + 0.01119 cpd15737[c] + 0.00276 cpd15738[c] + 0.003807 cpd15739[c] + 0.008216 cpd15740[c] + 0.01931 cpd15741[c] + 0.00132 cpd15742[c] + 0.02224 cpd15743[c] + 0.03768 cpd15744[c] + 0.005208 cpd15745[c] + 0.002845 cpd15782[c] + 0.0006934 cpd15783[c] + 0.0009777 cpd15784[c] + 0.0021 cpd15785[c] + 0.004935 cpd15786[c] + 0.0003316 cpd15787[c] + 0.005621 cpd15788[c] + 0.009523 cpd15789[c] + 0.001324 cpd15790[c] + 0.0005977 cpd15791[c] + 0.0001484 cpd15792[c] + 0.0002022 cpd15793[c] + 0.0004375 cpd15794[c] + 0.001028 cpd15795[c] + 0.001192 cpd15797[c] + 0.002019 cpd15798[c] + 0.0002781 cpd15799[c] <=> cpd15800[c]\n"
     ]
    }
   ],
   "source": [
    "#Creating  the lipid synthesis reaction:\n",
    "Lipid_df = pd.read_excel(\"Macromolecule-synthesis.xlsx\",\"Lipid\")\n",
    "Lipid_synthesis = make_reaction(Lipid_df, iBsu1147)\n",
    "\n",
    "Lipid_synthesis = modify_reaction(Lipid_synthesis, \"rxn10201\", iBsu1147)\n",
    "\n",
    "print(Lipid_synthesis)\n",
    "print(iBsu1147.reactions.get_by_id(\"rxn10201\"))"
   ]
  },
  {
   "cell_type": "code",
   "execution_count": 7,
   "metadata": {},
   "outputs": [
    {
     "name": "stdout",
     "output_type": "stream",
     "text": [
      "rxn10200new: 0.00488084303736876 cpd15746[c] + 0.00112542250060168 cpd15747[c] + 0.00176637167875183 cpd15748[c] + 0.00369824666641567 cpd15749[c] + 0.00869343744448727 cpd15750[c] + 0.000538136516553297 cpd15751[c] + 0.00938453914048955 cpd15752[c] + 0.0158983481591235 cpd15753[c] + 0.0022709060083442 cpd15754[c] + 0.00227592126012941 cpd15755[c] + 0.0005216864906978 cpd15756[c] + 0.000828218679809985 cpd15757[c] + 0.00172925881554125 cpd15758[c] + 0.00406536309709322 cpd15759[c] + 0.000249558928832172 cpd15760[c] + 0.00436326905313484 cpd15761[c] + 0.00739248113140316 cpd15762[c] + 0.00105922117703687 cpd15763[c] + 0.00203819832551034 cpd15764[c] + 0.00046691994120328 cpd15765[c] + 0.000742357569247148 cpd15766[c] + 0.00154971280163065 cpd15767[c] + 0.00364207584642129 cpd15768[c] + 0.000223379314513363 cpd15769[c] + 0.0039068811406805 cpd15770[c] + 0.0066191293061234 cpd15771[c] + 0.000948584722655084 cpd15772[c] + 0.00646064734971069 cpd15773[c] + 0.00148451452842289 cpd15774[c] + 0.00234613478512239 cpd15775[c] + 0.00490391319558074 cpd15776[c] + 0.0115250486024182 cpd15777[c] + 0.000709959042714675 cpd15778[c] + 0.0123977024130452 cpd15779[c] + 0.0210038744764698 cpd15780[c] + 0.00300614192005635 cpd15781[c] <=> cpd15670[c]\n",
      "rxn10200: 0.004866 cpd15746[c] + 0.001122 cpd15747[c] + 0.001761 cpd15748[c] + 0.003687 cpd15749[c] + 0.008667 cpd15750[c] + 0.0005365 cpd15751[c] + 0.009356 cpd15752[c] + 0.01585 cpd15753[c] + 0.002264 cpd15754[c] + 0.002269 cpd15755[c] + 0.0005201 cpd15756[c] + 0.0008257 cpd15757[c] + 0.001724 cpd15758[c] + 0.004053 cpd15759[c] + 0.0002488 cpd15760[c] + 0.00435 cpd15761[c] + 0.00737 cpd15762[c] + 0.001056 cpd15763[c] + 0.002032 cpd15764[c] + 0.0004655 cpd15765[c] + 0.0007401 cpd15766[c] + 0.001545 cpd15767[c] + 0.003631 cpd15768[c] + 0.0002227 cpd15769[c] + 0.003895 cpd15770[c] + 0.006599 cpd15771[c] + 0.0009457 cpd15772[c] + 0.006441 cpd15773[c] + 0.00148 cpd15774[c] + 0.002339 cpd15775[c] + 0.004889 cpd15776[c] + 0.01149 cpd15777[c] + 0.0007078 cpd15778[c] + 0.01236 cpd15779[c] + 0.02094 cpd15780[c] + 0.002997 cpd15781[c] <=> cpd15670[c]\n"
     ]
    }
   ],
   "source": [
    "#Creating  the lipoteichoic acid synthesis reaction:\n",
    "Lipo_df = pd.read_excel(\"Macromolecule-synthesis.xlsx\", \"Lipoteichoic_acid\")\n",
    "Lipo_synthesis = make_reaction(Lipo_df, iBsu1147)\n",
    "Lipo_synthesis = modify_reaction(Lipo_synthesis, \"rxn10200\", iBsu1147)\n",
    "\n",
    "\n",
    "print(Lipo_synthesis)\n",
    "print(iBsu1147.reactions.get_by_id(\"rxn10200\"))"
   ]
  },
  {
   "cell_type": "code",
   "execution_count": 8,
   "metadata": {},
   "outputs": [
    {
     "name": "stdout",
     "output_type": "stream",
     "text": [
      "rxn10198new: 0.0145386839210681 cpd11459[c] + 0.454208539051299 cpd15665[c] + 0.0160426857060061 cpd15667[c] + 0.0112298799942043 cpd15668[c] + 0.0081015562815331 cpd15669[c] <=> cpd15664[c] + 0.489582661033042 cpd15666[c]\n"
     ]
    }
   ],
   "source": [
    "#Creating the Cell wall synthesis reaction: \n",
    "\n",
    "Cellwall_df = pd.read_excel(\"Macromolecule-synthesis.xlsx\",\"Cell_wall\")\n",
    "Cellwall_synthesis = make_reaction(Cellwall_df, iBsu1147)\n",
    "Cellwall = modify_reaction(Cellwall_synthesis, \"rxn10198\", iBsu1147)\n",
    "\n",
    "print(Cellwall)"
   ]
  },
  {
   "cell_type": "code",
   "execution_count": 9,
   "metadata": {},
   "outputs": [],
   "source": [
    "#Importing the synthesis reaction for proteins containing the measured amino acid concentrations:\n",
    "PGlucose_df = pd.read_excel(\"Macromolecule-synthesis.xlsx\", \"Proteins_Gluc\")\n",
    "PGlucose_synthesis = make_reaction(PGlucose_df, iBsu1147)\n",
    "PGlucose_synthesis = modify_reaction(PGlucose_synthesis, \"rxn05296\", iBsu1147)"
   ]
  },
  {
   "cell_type": "code",
   "execution_count": 10,
   "metadata": {},
   "outputs": [
    {
     "name": "stdout",
     "output_type": "stream",
     "text": [
      "bio00006new: 105.0 C00001[c] + 105.003 C00002[c] + 0.572154094567705 C00017[c] + 0.023458553031822 C00039[c] + 0.000273109 C00229[c] + 0.0446336317745074 Cofactor[c] + 0.0697874204115724 cpd11462[c] + 0.2242 cpd15664[c] + 0.0304 cpd15670[c] + 0.0311157979687115 cpd15800[c] --> 104.997 C00008[c] + 104.987 C00009[c] + 0.000273109 C03688[c]\n",
      "bio00006: 105.0 C00001[c] + 105.003 C00002[c] + 0.01822 C00003[c] + 0.0002367 C00005[c] + 0.001053 C00006[c] + 0.000127618 C00010[c] + 0.0008548 C00013[c] + 0.5284 C00017[c] + 0.005253 C00020[c] + 0.0002215 C00035[c] + 0.026 C00039[c] + 0.0004883 C00044[c] + 0.001153 C00055[c] + 0.0006105 C00063[c] + 0.002983 C00076[c] + 0.0002924 C00112[c] + 0.0005939 C00144[c] + 0.000273109 C00229[c] + 0.000206831 C00234[c] + 0.6576 C00238[c] + 0.09474 C00305[c] + 0.00014977 C00828[c] + 0.003209 C14819[c] + 0.0655 cpd11462[c] + 0.2242 cpd15664[c] + 0.0304 cpd15670[c] + 0.076 cpd15800[c] --> 104.997 C00008[c] + 104.987 C00009[c] + 0.000273109 C03688[c]\n"
     ]
    }
   ],
   "source": [
    "#Creating the new \n",
    "Datafile = pd.read_excel(\"BOF_ny.xlsx\", \"Glucose\")\n",
    "\n",
    "BOF_df = pd.DataFrame(Datafile)\n",
    "                      \n",
    "BOFrx = make_reaction(BOF_df, iBsu1147)\n",
    "\n",
    "BOFnew = modify_reaction(BOFrx, \"bio00006\", iBsu1147)\n",
    "\n",
    "print (BOFnew)\n",
    "print(iBsu1147.reactions.get_by_id(\"bio00006\"))"
   ]
  },
  {
   "cell_type": "code",
   "execution_count": 1,
   "metadata": {},
   "outputs": [
    {
     "ename": "NameError",
     "evalue": "name 'iBsu1147' is not defined",
     "output_type": "error",
     "traceback": [
      "\u001b[1;31m---------------------------------------------------------------------------\u001b[0m",
      "\u001b[1;31mNameError\u001b[0m                                 Traceback (most recent call last)",
      "\u001b[1;32mc:\\Users\\sofie\\OneDrive\\Documents\\Master - Data\\Functions and reactions_Glucose.ipynb Cell 11\u001b[0m in \u001b[0;36m<module>\u001b[1;34m\u001b[0m\n\u001b[0;32m      <a href='vscode-notebook-cell:/c%3A/Users/sofie/OneDrive/Documents/Master%20-%20Data/Functions%20and%20reactions_Glucose.ipynb#X13sZmlsZQ%3D%3D?line=1'>2</a>\u001b[0m SynthesisIDs \u001b[39m=\u001b[39m [\u001b[39m\"\u001b[39m\u001b[39mrxn05294\u001b[39m\u001b[39m\"\u001b[39m, \u001b[39m\"\u001b[39m\u001b[39mrxn05295\u001b[39m\u001b[39m\"\u001b[39m, \u001b[39m\"\u001b[39m\u001b[39mrxn05296\u001b[39m\u001b[39m\"\u001b[39m, \u001b[39m\"\u001b[39m\u001b[39mrxn10198\u001b[39m\u001b[39m\"\u001b[39m, \u001b[39m\"\u001b[39m\u001b[39mrxn10200\u001b[39m\u001b[39m\"\u001b[39m, \u001b[39m\"\u001b[39m\u001b[39mrxn10201\u001b[39m\u001b[39m\"\u001b[39m, \u001b[39m\"\u001b[39m\u001b[39mbio00006\u001b[39m\u001b[39m\"\u001b[39m]\n\u001b[0;32m      <a href='vscode-notebook-cell:/c%3A/Users/sofie/OneDrive/Documents/Master%20-%20Data/Functions%20and%20reactions_Glucose.ipynb#X13sZmlsZQ%3D%3D?line=2'>3</a>\u001b[0m \u001b[39mfor\u001b[39;00m IDs \u001b[39min\u001b[39;00m SynthesisIDs:\n\u001b[1;32m----> <a href='vscode-notebook-cell:/c%3A/Users/sofie/OneDrive/Documents/Master%20-%20Data/Functions%20and%20reactions_Glucose.ipynb#X13sZmlsZQ%3D%3D?line=3'>4</a>\u001b[0m     iBsu1147\u001b[39m.\u001b[39mremove_reactions([IDs])\n\u001b[0;32m      <a href='vscode-notebook-cell:/c%3A/Users/sofie/OneDrive/Documents/Master%20-%20Data/Functions%20and%20reactions_Glucose.ipynb#X13sZmlsZQ%3D%3D?line=5'>6</a>\u001b[0m \u001b[39mprint\u001b[39m(\u001b[39mlen\u001b[39m(iBsu1147\u001b[39m.\u001b[39mreactions))\n\u001b[0;32m      <a href='vscode-notebook-cell:/c%3A/Users/sofie/OneDrive/Documents/Master%20-%20Data/Functions%20and%20reactions_Glucose.ipynb#X13sZmlsZQ%3D%3D?line=7'>8</a>\u001b[0m \u001b[39m#Adding new reactions:\u001b[39;00m\n",
      "\u001b[1;31mNameError\u001b[0m: name 'iBsu1147' is not defined"
     ]
    }
   ],
   "source": [
    "#Removing old BOF synthesis reactions:\n",
    "SynthesisIDs = [\"rxn05294\", \"rxn05295\", \"rxn05296\", \"rxn10198\", \"rxn10200\", \"rxn10201\", \"bio00006\"]\n",
    "for IDs in SynthesisIDs:\n",
    "    iBsu1147.remove_reactions([IDs])\n",
    "\n",
    "print(len(iBsu1147.reactions))\n",
    "\n",
    "#Adding new reactions:\n",
    "synthesis_reactions = (cofac_synthesis, DNA_synthesis, RNA_synthesis, Lipid_synthesis, Lipo_synthesis, Cellwall, PGlucose_synthesis, BOFnew)\n",
    "\n",
    "for reactions in synthesis_reactions:\n",
    "    iBsu1147.add_reactions([reactions])\n",
    "\n",
    "print(len(iBsu1147.reactions))\n",
    "\n",
    "#printing the length of the model when removing the original reactions and adding the new ones to check that everything went as it should."
   ]
  },
  {
   "cell_type": "code",
   "execution_count": null,
   "metadata": {},
   "outputs": [],
   "source": [
    "# importing df that contains the components of the minimal medium used experimentally\n",
    "os.getcwd()\n",
    "os.chdir(\"C:/Users/sofie/OneDrive/Documents/Master - Data/\")\n",
    "\n",
    "experimental_medium_df = pd.read_excel(\"Medium.xlsx\", \"Glucose\")\n",
    "\n",
    "Exchange_reactions_medium = experimental_medium_df[\"Exchange reaction ID\"]\n",
    "\n",
    "exchange_reactions = Exchange_reactions_medium.values.tolist()\n",
    "\n",
    "#The bacteria in the batch fermentation experiments were incubated in minimal media with their respecitive C-source.\n",
    "#In order to make sure the model predictions are based on what was available to the bacteria during the experiments,\n",
    "#the flux ranges for the exchange reactions for components in the media must be set to -1000 and 1000. \n",
    "#That means that the components that were in the cultivation media, is the same as what is \"available\" in the model.\n",
    "\n",
    "for exchange in iBsu1147.exchanges:\n",
    "    if exchange.id in exchange_reactions:  # if the component from the exchange reaction was\n",
    "        # available in the medium, the model should be able to take up and secrete it.\n",
    "        iBsu1147.reactions.get_by_id(exchange.id).lower_bound = -1000.0\n",
    "        iBsu1147.reactions.get_by_id(exchange.id).upper_bound = 1000.0\n",
    "    else:\n",
    "        # if the exchange reaction is not part of the medium, it can't be taken up from the media. However,\n",
    "        # it is possible for the bacteria to secrete it.\n",
    "        iBsu1147.reactions.get_by_id(exchange.id).lower_bound = 0.0\n",
    "        iBsu1147.reactions.get_by_id(exchange.id).upper_bound = 1000.0\n",
    "\n",
    "#changing the medium composition for the model with the original BOF:\n",
    "for exchange in iBsu1147og.exchanges:\n",
    "    if exchange.id in exchange_reactions: \n",
    "        iBsu1147og.reactions.get_by_id(exchange.id).lower_bound = -1000.0\n",
    "        iBsu1147og.reactions.get_by_id(exchange.id).upper_bound = 1000.0\n",
    "    else:\n",
    "        iBsu1147og.reactions.get_by_id(exchange.id).lower_bound = 0.0\n",
    "        iBsu1147og.reactions.get_by_id(exchange.id).upper_bound = 1000.0"
   ]
  },
  {
   "cell_type": "code",
   "execution_count": 13,
   "metadata": {},
   "outputs": [
    {
     "name": "stdout",
     "output_type": "stream",
     "text": [
      "Maximize\n",
      "1.0*bio00006new - 1.0*bio00006new_reverse_1501f\n",
      "<Solution 0.100 at 0x22f7fc437c0>\n",
      "cofactor 0.0044633631774507404\n",
      "rxn05294new 0.0023458553031822003\n",
      "rxn05295new 0.00697874204115724\n",
      "rxn10201new 0.0031115797968711504\n",
      "rxn10200new 0.00304\n",
      "rxn10198new 0.022420000000000002\n",
      "rxn05296new 0.057215409456770505\n",
      "bio00006new 0.1\n"
     ]
    }
   ],
   "source": [
    "#Setting the new objective function:\n",
    "iBsu1147.objective = \"bio00006new\"\n",
    "print(iBsu1147.objective)\n",
    "print(iBsu1147.optimize())\n",
    "\n",
    "New_reactions = [cofac_synthesis, DNA_synthesis, RNA_synthesis, Lipid_synthesis, Lipo_synthesis, Cellwall\n",
    "                 , PGlucose_synthesis, BOFnew]\n",
    "\n",
    "for reaction in New_reactions:\n",
    "    print(reaction.id, iBsu1147.optimize().fluxes[reaction.id])"
   ]
  },
  {
   "cell_type": "code",
   "execution_count": 14,
   "metadata": {},
   "outputs": [
    {
     "name": "stdout",
     "output_type": "stream",
     "text": [
      "<Solution 0.411 at 0x22f7fc43670>\n",
      "Flux through reaction rxn05294new : 0.009634427730169296\n",
      "Flux through reaction rxn05295new : 0.028661693563032786\n",
      "Flux through reaction rxn05296new : 0.23498368663895647\n",
      "Flux through reaction rxn10198new : 0.09207894000000001\n",
      "Flux through reaction rxn10200new : 0.01248528\n",
      "Flux through reaction rxn10201new : 0.012779258225749813\n",
      "Flux through reaction bio00006new : 0.4107\n",
      "Flux through reaction cofactor : 0.01833103256979019\n"
     ]
    }
   ],
   "source": [
    "#Setting the experimentally measured growth rate and running the model: \n",
    "iBsu1147.reactions.get_by_id(\"bio00006new\").upper_bound = (0.4107) #Measured growth rate (0.3567 + (2*0.054)) to give the model more flexibility.\n",
    "iBsu1147.reactions.get_by_id(\"bio00006new\").lower_bound = (0.3027)\n",
    "\n",
    "print(iBsu1147.optimize())\n",
    "\n",
    "SynthesisIDs = [\"rxn05294new\", \"rxn05295new\", \"rxn05296new\",\"rxn10198new\", \"rxn10200new\", \"rxn10201new\", \"bio00006new\", \"cofactor\"]\n",
    "\n",
    "for reactionID in SynthesisIDs:\n",
    "    print(\"Flux through reaction\", reactionID, \":\", iBsu1147.reactions.get_by_id(reactionID).flux)"
   ]
  },
  {
   "cell_type": "code",
   "execution_count": 15,
   "metadata": {},
   "outputs": [
    {
     "name": "stdout",
     "output_type": "stream",
     "text": [
      "Flux through reaction rxn05294 : 0.0106782\n",
      "Flux through reaction rxn05295 : 0.02690085\n",
      "Flux through reaction rxn05296 : 0.21701388\n",
      "Flux through reaction rxn10198 : 0.09207894000000001\n",
      "Flux through reaction rxn10200 : 0.01248528\n",
      "Flux through reaction rxn10201 : 0.0312132\n",
      "Flux through reaction bio00006 : 0.4107\n"
     ]
    }
   ],
   "source": [
    "#Setting the experimentally measured growth rate and running the model with the original BOF: \n",
    "iBsu1147og.reactions.get_by_id(\"bio00006\").upper_bound = (0.4107) #Measured growth rate (0.3567 + (2*0.054)) to give the model more flexibility.\n",
    "iBsu1147og.reactions.get_by_id(\"bio00006\").lower_bound = (0.3027)\n",
    "\n",
    "iBsu1147og.optimize()\n",
    "SynthesisIDsog = [\"rxn05294\", \"rxn05295\", \"rxn05296\",\"rxn10198\", \"rxn10200\", \"rxn10201\", \"bio00006\"]\n",
    "\n",
    "for reactionID in SynthesisIDsog:\n",
    "    print(\"Flux through reaction\", reactionID, \":\", iBsu1147og.reactions.get_by_id(reactionID).flux)"
   ]
  },
  {
   "cell_type": "code",
   "execution_count": 2,
   "metadata": {},
   "outputs": [
    {
     "data": {
      "text/plain": [
       "'Fluxes = {\"E00096\": (-3.52, 1000), \"E00068\": (0, 1000), \"E00117\": (0, 1000), \"E00046\": (0, 1000), \"E00017\": (0, 1000), \"E00012\":  (0, 3.6),\\n          \"E00032\": (-0.02,1000), \"E00009\": (-1.98, 1000), \"E00002\": (-5.22, 1000), \"E00004\": (0, 5.49), \"EX_Methanol[c]\": (0, 1000)}\\n\\nupdate_fluxes_in_model(iBsu1147, Fluxes)  # Update fluxes in the model using the Fluxes dictionary\\n\\niBsu1147.optimize()\\n\\n\\nFluxes = {\"E00096\": (-3.52, 1000), \"E00068\": (0, 1000), \"E00117\": (0, 1000), \"E00046\": (0, 1000), \"E00017\": (0, 1000), \"E00012\":  (0, 3.6),\\n          \"E00032\": (-0.02,1000), \"E00009\": (-1.98, 1000), \"E00002\": (-5.22, 1000), \"E00004\": (0, 5.49), \"EX_Methanol[c]\": (0, 1000)}\\n\\nupdate_fluxes_in_model(iBsu1147og, Fluxes)  # Update fluxes in the model using the Fluxes dictionary\\n\\niBsu1147og.optimize()'"
      ]
     },
     "execution_count": 2,
     "metadata": {},
     "output_type": "execute_result"
    }
   ],
   "source": [
    "#Setting the experimentally measured fluxes\n",
    "import cobra\n",
    "\n",
    "#This function takes in the model and a dictionary of measured fluxes and updates the fluxes for the reactions. \n",
    "def update_fluxes_in_model(model, fluxes):\n",
    "    for reaction_id, flux in fluxes.items():\n",
    "        if reaction_id in model.reactions:\n",
    "            reaction = model.reactions.get_by_id(reaction_id)\n",
    "            lower_bound, upper_bound = flux  # Extract lower and upper bounds from the tuple\n",
    "            reaction.lower_bound = lower_bound\n",
    "            reaction.upper_bound = upper_bound\n",
    "            #print(f\"Flux updated for reaction ID {reaction_id}.\")\n",
    "        else:\n",
    "            print(f\"Reaction ID {reaction_id} not found in the model.\")\n",
    "\n",
    "#Setting the experimentally measured fluxes in glucose resulted in the model not being able to provide a feasible solution. \n",
    "#That is why the reaction fluxes here are inside there \"\"\" \"\"\". The experimentally measured fluxes should not be set before running the MOMA\n",
    "#analysis to find a feasible distribution of fluxes. Only the growth rate is locked for the MOMA analysis. Measured fluxes are given \n",
    "#as a reference.\n",
    "\n",
    "\"\"\"Fluxes = {\"E00096\": (-3.52, 1000), \"E00068\": (0, 1000), \"E00117\": (0, 1000), \"E00046\": (0, 1000), \"E00017\": (0, 1000), \"E00012\":  (0, 3.6),\n",
    "          \"E00032\": (-0.02,1000), \"E00009\": (-1.98, 1000), \"E00002\": (-5.22, 1000), \"E00004\": (0, 5.49), \"EX_Methanol[c]\": (0, 1000)}\n",
    "\n",
    "update_fluxes_in_model(iBsu1147, Fluxes)  # Update fluxes in the model using the Fluxes dictionary\n",
    "\n",
    "iBsu1147.optimize()\n",
    "\n",
    "\n",
    "Fluxes = {\"E00096\": (-3.52, 1000), \"E00068\": (0, 1000), \"E00117\": (0, 1000), \"E00046\": (0, 1000), \"E00017\": (0, 1000), \"E00012\":  (0, 3.6),\n",
    "          \"E00032\": (-0.02,1000), \"E00009\": (-1.98, 1000), \"E00002\": (-5.22, 1000), \"E00004\": (0, 5.49), \"EX_Methanol[c]\": (0, 1000)}\n",
    "\n",
    "update_fluxes_in_model(iBsu1147og, Fluxes)  # Update fluxes in the model using the Fluxes dictionary\n",
    "\n",
    "iBsu1147og.optimize()\"\"\""
   ]
  },
  {
   "cell_type": "code",
   "execution_count": 17,
   "metadata": {},
   "outputs": [
    {
     "name": "stdout",
     "output_type": "stream",
     "text": [
      "Objective: -82.01355145405978\n",
      "Status: Optimal\n",
      "\n",
      "rxn05294new   0.0071009\n",
      "None\n",
      "rxn05295new   0.0211247\n",
      "None\n",
      "rxn05296new   0.173191\n",
      "None\n",
      "rxn10198new   0.0678653\n",
      "None\n",
      "rxn10200new   0.00920208\n",
      "None\n",
      "rxn10201new   0.00941875\n",
      "None\n",
      "bio00006new   0.3027\n",
      "None\n",
      "cofactor      0.0135106\n",
      "None\n",
      "E00096       -4.86329\n",
      "None\n",
      "\n",
      "None\n",
      "\n",
      "None\n",
      "\n",
      "None\n",
      "\n",
      "None\n",
      "E00012        3.6\n",
      "None\n",
      "E00008        3.79915\n",
      "None\n",
      "E00032       -0.0137854\n",
      "None\n",
      "E00009       -2.06222\n",
      "None\n",
      "E00002       -6.74433\n",
      "None\n",
      "E00004        6.00191\n",
      "None\n"
     ]
    }
   ],
   "source": [
    "import reframed \n",
    "from reframed import from_cobrapy\n",
    "from reframed import FBA\n",
    "from reframed import MOMA\n",
    "\n",
    "#Performing the MOMA analysis. The growth-rate was already set. Measured fluxes are used as a reference. \n",
    "#This is the analysis on the model with then new BOF.\n",
    "\n",
    "cbmodel = reframed.from_cobrapy(iBsu1147)\n",
    "\n",
    "Fluxes = {\"E00096\": -3.512, \"E00068\": 0 , \"E00117\": 0 , \"E00046\": 0 , \"E00017\": 0 , \"E00012\":  3.6, \n",
    "          \"E00032\": -0.021, \"E00009\": -1.985, \"E00002\": -5.2, \"E00004\": 5.5, \"EX_Methanol[c]\": 0}\n",
    "\n",
    "ReactionIDsnew = [\"rxn05294new\", \"rxn05295new\", \"rxn05296new\",\"rxn10198new\", \"rxn10200new\", \"rxn10201new\", \"bio00006new\", \"cofactor\",  \"E00096\", \"E00068\", \"E00017\", \"E00117\", \"E00046\", \"E00012\", \"E00008\", \"E00032\", \"E00009\", \"E00002\", \"E00004\"]\n",
    "\n",
    "\n",
    "\n",
    "modelMOMAglu = MOMA(cbmodel, reference= Fluxes, reactions=ReactionIDsnew)\n",
    "print(modelMOMAglu)\n",
    "for reactions in ReactionIDsnew:\n",
    "    print(modelMOMAglu.show_values(reactions))"
   ]
  },
  {
   "cell_type": "code",
   "execution_count": 41,
   "metadata": {},
   "outputs": [
    {
     "name": "stdout",
     "output_type": "stream",
     "text": [
      "<Solution 0.302 at 0x22f0dfafbb0>\n"
     ]
    },
    {
     "data": {
      "text/plain": [
       "'SynthesisIDs = [\"rxn05294new\", \"rxn05295new\", \"rxn05296new\",\"rxn10198new\", \"rxn10200new\", \"rxn10201new\", \"bio00006new\", \"cofactor\"]\\n\\nfor reactionID in SynthesisIDs:\\n    print(\"Flux through reaction\", reactionID, \":\", iBsu1147.reactions.get_by_id(reactionID).flux)'"
      ]
     },
     "execution_count": 41,
     "metadata": {},
     "output_type": "execute_result"
    }
   ],
   "source": [
    "#FBA with results from MOMA analysis: \n",
    "import reframed \n",
    "from reframed import from_cobrapy\n",
    "from reframed import FBA\n",
    "\n",
    "#The new suggested fluxes from the MOMA analysis are listed below. These were updated and then the model was saved with this growth rate and these fluxes.\n",
    "\n",
    "iBsu1147.reactions.get_by_id(\"bio00006new\").upper_bound = 0.3027\n",
    "iBsu1147.reactions.get_by_id(\"bio00006new\").lower_bound = 0.3010\n",
    " \n",
    "new_Fluxesglu = {\"E00096\": (-4.863, 1000), \"E00068\": (0, 1000), \"E00117\": (0, 1000), \"E00046\": (0, 1000), \"E00017\": (0, 1000), \"E00012\":  (0, 3.6), \"E00008\": (0, 3.799),\n",
    "          \"E00032\": (-0.01378, 1000), \"E00009\": (-2.062, 1000), \"E00002\": (-6.744, 1000), \"E00004\": (0, 6.002), \"EX_Methanol[c]\": (0, 1000)}\n",
    "\n",
    "update_fluxes_in_model(iBsu1147, new_Fluxesglu)\n",
    "print(iBsu1147.optimize())\n",
    "\n",
    "cobra.io.write_sbml_model(iBsu1147, \"C:/Users/sofie/OneDrive/Documents/Master - Data/ModelGlu.sbml\")\n",
    "\n",
    "\"\"\"\n",
    "#Running a FBA analysis with the MOMA-fluxes: \n",
    "cbmodelglu2 = reframed.from_cobrapy(iBsu1147)\n",
    "solglu2 = FBA(cbmodelglu2)\n",
    "print(solglu2.show_values())\n",
    "\n",
    "ReactionIDs = [\"rxn05294new\", \"rxn05295new\", \"rxn05296new\",\"rxn10198new\", \"rxn10200new\", \"rxn10201new\", \"bio00006new\", \"cofactor\", \"E00117\", \"E00012\", \"E00032\", \"E00009\", \"E00002\", \"E00004\"]\n",
    "\n",
    "for reactionID in ReactionIDs:\n",
    "    flux = solglu2.values.get(reactionID)\n",
    "    print(reactionID, round(flux,6))\"\"\"\n",
    "    \n",
    "\"\"\"SynthesisIDs = [\"rxn05294new\", \"rxn05295new\", \"rxn05296new\",\"rxn10198new\", \"rxn10200new\", \"rxn10201new\", \"bio00006new\", \"cofactor\"]\n",
    "\n",
    "for reactionID in SynthesisIDs:\n",
    "    print(\"Flux through reaction\", reactionID, \":\", iBsu1147.reactions.get_by_id(reactionID).flux)\"\"\""
   ]
  },
  {
   "cell_type": "code",
   "execution_count": 36,
   "metadata": {},
   "outputs": [
    {
     "name": "stdout",
     "output_type": "stream",
     "text": [
      "Objective: -81.50254383962601\n",
      "Status: Optimal\n",
      "\n",
      "rxn05294      0.0078702\n",
      "None\n",
      "rxn05295      0.0198269\n",
      "None\n",
      "rxn05296      0.159947\n",
      "None\n",
      "rxn10198      0.0678653\n",
      "None\n",
      "rxn10200      0.00920208\n",
      "None\n",
      "rxn10201      0.0230052\n",
      "None\n",
      "bio00006      0.3027\n",
      "None\n",
      "E00096       -4.94576\n",
      "None\n",
      "\n",
      "None\n",
      "E00017        1.16269e-09\n",
      "None\n",
      "\n",
      "None\n",
      "\n",
      "None\n",
      "E00012        3.6\n",
      "None\n",
      "E00008        3.51617\n",
      "None\n",
      "E00032       -0.0164425\n",
      "None\n",
      "E00009       -2.0667\n",
      "None\n",
      "E00002       -6.83401\n",
      "None\n",
      "E00004        6.03105\n",
      "None\n"
     ]
    }
   ],
   "source": [
    "#MOMA original model BOF:\n",
    "import reframed\n",
    "from reframed import from_cobrapy\n",
    "from reframed import FBA\n",
    "from reframed import MOMA\n",
    "\n",
    "\n",
    "#Performing the MOMA analysis. The growth-rate was already set. Measured fluxes are used as a reference. \n",
    "#This is the analysis on the model with then original BOF.\n",
    "\n",
    "cbmodelog = reframed.from_cobrapy(iBsu1147og)\n",
    "\n",
    "Fluxesog = {\"E00096\": -3.516, \"E00068\": 0 , \"E00117\": 0 , \"E00046\": 0 , \"E00017\": 0 , \"E00012\":  3.6, \n",
    "          \"E00032\": -0.021, \"E00009\": -1.985, \"E00002\": -5.2, \"E00004\": 5.5, \"EX_Methanol[c]\": 0}\n",
    "\n",
    "ReactionIDs = [\"rxn05294\", \"rxn05295\", \"rxn05296\",\"rxn10198\", \"rxn10200\", \"rxn10201\", \"bio00006\", \"E00096\", \"E00068\", \"E00017\", \"E00117\", \"E00046\", \"E00012\", \"E00008\", \"E00032\", \"E00009\", \"E00002\", \"E00004\"]\n",
    "\n",
    "modelMOMAogglu = MOMA(cbmodelog, reference= Fluxesog, reactions=ReactionIDs)\n",
    "print(modelMOMAogglu)\n",
    "for reactions in ReactionIDs:\n",
    "    print(modelMOMAogglu.show_values(reactions))\n",
    "\n",
    "#Hvordan påvirkes modellen av de nye biomassefunksjonene? kommer vi nærmere eksperimentelt målte verdier? Er det en effekt på hvor nær vi kommer eksperimentelle verdier?"
   ]
  },
  {
   "cell_type": "code",
   "execution_count": 40,
   "metadata": {},
   "outputs": [],
   "source": [
    "#The new suggested fluxes from the MOMA analysis with ORIGINAL BOF are:\n",
    "#The new suggested fluxes from the MOMA analysis are listed below. These were updated and then the model was saved with this growth rate and these fluxes.\n",
    "\n",
    "iBsu1147og.reactions.get_by_id(\"bio00006\").upper_bound =  0.3027\n",
    "iBsu1147og.reactions.get_by_id(\"bio00006\").lower_bound = 0.3010\n",
    " \n",
    " \n",
    "new_Fluxesog = {\"E00096\": (-4.945, 1000), \"E00068\": (0, 1000), \"E00117\": (0, 1000), \"E00046\": (0, 1000), \"E00017\": (0, 1000), \"E00012\":  (0, 3.6), \"E00008\": (0, 3.516),\n",
    "          \"E00032\": (-0.016, 1000), \"E00009\": (-2.07, 1000), \"E00002\": (-6.83, 1000), \"E00004\": (0, 6.03), \"EX_Methanol[c]\": (0, 1000)}\n",
    "\n",
    "update_fluxes_in_model(iBsu1147og, new_Fluxesog)\n",
    "iBsu1147og.optimize()\n",
    "\n",
    "cobra.io.write_sbml_model(iBsu1147og, \"C:/Users/sofie/OneDrive/Documents/Master - Data/OGModelGlu.sbml\")"
   ]
  },
  {
   "cell_type": "code",
   "execution_count": null,
   "metadata": {},
   "outputs": [],
   "source": [
    "\"\"\"\n",
    "#Running a FBA analysis with the MOMA-fluxes: \n",
    "cbmodelgluog2 = reframed.from_cobrapy(iBsu1147og)\n",
    "solgluog2 = FBA(cbmodelgluog2)\n",
    "#print(solcb.show_values())\n",
    "\n",
    "SynthesisIDs = [\"rxn05294\", \"rxn05295\", \"rxn05296\",\"rxn10198\", \"rxn10200\", \"rxn10201\", \"bio00006\",  \"E00096\", \"E00068\", \"E00017\", \"E00117\", \"E00046\", \"E00012\", \"E00008\", \"E00032\", \"E00009\", \"E00002\", \"E00004\"]\n",
    "\n",
    "for reactionID in SynthesisIDs:\n",
    "    flux = solgluog2.values.get(reactionID)\n",
    "    print(reactionID, round(flux,6))\"\"\""
   ]
  },
  {
   "cell_type": "code",
   "execution_count": null,
   "metadata": {},
   "outputs": [],
   "source": [
    "#FVA:\n",
    "from cobra import flux_analysis\n",
    "\n",
    "#Update model with MOMA-results:\n",
    "iBsu1147.reactions.get_by_id(\"bio00006new\").upper_bound = 0.3027\n",
    "iBsu1147.reactions.get_by_id(\"bio00006new\").lower_bound = 0.3000\n",
    " \n",
    "new_Fluxesglu = {\"E00096\": (-3.54, 1000), \"E00068\": (0, 1000), \"E00117\": (0, 1000), \"E00046\": (0, 1000), \"E00017\": (0, 1000), \"E00012\":  (0, 3.6),\n",
    "          \"E00032\": (-0.0099, 1000), \"E00009\": (-1.98, 1000), \"E00002\": (-5.25, 1000), \"E00004\": (0, 5.52), \"EX_Methanol[c]\": (0, 1000)}\n",
    "\n",
    "\n",
    "update_fluxes_in_model(iBsu1147, new_Fluxesglu)\n",
    "iBsu1147.optimize()\n",
    "\n",
    "FVAglu =flux_analysis.flux_variability_analysis(iBsu1147, loopless=True, fraction_of_optimum=0.95)"
   ]
  },
  {
   "cell_type": "code",
   "execution_count": null,
   "metadata": {},
   "outputs": [],
   "source": [
    "print(FVAglu[1:30])"
   ]
  },
  {
   "cell_type": "code",
   "execution_count": null,
   "metadata": {},
   "outputs": [],
   "source": [
    "#FVA old model\n",
    "iBsu1147og.reactions.get_by_id(\"bio00006\").upper_bound = 0.221\n",
    "iBsu1147og.reactions.get_by_id(\"bio00006\").lower_bound = 0.0\n",
    " \n",
    "new_Fluxesog = {\"E00096\": (-3.54, 1000), \"E00068\": (0, 1000), \"E00117\": (0, 1000), \"E00046\": (0, 1000), \"E00017\": (0, 1000), \"E00012\":  (0, 3.6),\n",
    "          \"E00032\": (-0.012, 1000), \"E00009\": (-1.98, 1000), \"E00002\": (-5.25, 1000), \"E00004\": (0, 5.52), \"EX_Methanol[c]\": (0, 1000)}\n",
    "\n",
    "update_fluxes_in_model(iBsu1147og, new_Fluxesog)\n",
    "\n",
    "iBsu1147og.optimize()\n",
    "\n",
    "FVAgluog = flux_analysis.flux_variability_analysis(iBsu1147og, loopless= True, fraction_of_optimum= 0.95)\n"
   ]
  },
  {
   "cell_type": "code",
   "execution_count": null,
   "metadata": {},
   "outputs": [],
   "source": [
    "#Checking to see if i can remove the biomass synthesis reactions so that i can make a plot with the FVA results.\n",
    "Reactions_remove = [\"rxn05294new\", \"rxn05295new\", \"rxn05296new\",\"rxn10198new\", \"rxn10200new\", \"rxn10201new\", \"bio00006new\", \"cofactor\"]\n",
    "\n",
    "#print(FVAglu.columns)\n",
    "\n",
    "\n",
    "filtered_Glu = pd.DataFrame(columns=FVAglu.columns)\n",
    "removed_df = pd.DataFrame(columns=FVAglu.columns)\n",
    "\n",
    "#I want to loop trough the reactions that are indexed in the FVA dataframe and if that idex is one of the reactions in Reactions_remove list, then this reaction\n",
    "#will be reomved from the filtered dataframe. I also made another dataframe for the FVA results of the removed reactions, because it is interesting to get to see\n",
    "#those results as well.\n",
    "for reaction_id in FVAglu.index:\n",
    "    # Check if the reaction ID is in the Reactions_remove list\n",
    "    if reaction_id in Reactions_remove:\n",
    "        # Append the reaction to the removed_df DataFrame\n",
    "        removed_df.loc[reaction_id] = FVAglu.loc[reaction_id]\n",
    "    else:\n",
    "        # Append the reaction to the filtered_df DataFrame\n",
    "        filtered_Glu.loc[reaction_id] = FVAglu.loc[reaction_id]\n",
    "\n",
    "# Print the filtered DataFrame\n",
    "print(filtered_Glu)\n",
    "print(len(filtered_Glu))"
   ]
  },
  {
   "cell_type": "code",
   "execution_count": null,
   "metadata": {},
   "outputs": [],
   "source": [
    "#Checking to see if i can remove the biomass synthesis reactions so that i can make a plot with the FVA results.\n",
    "Reactions_remove = [\"rxn05294\", \"rxn05295\", \"rxn05296\",\"rxn10198\", \"rxn10200\", \"rxn10201\", \"bio00006\"]\n",
    "\n",
    "print(FVAgluog.columns)\n",
    "\n",
    "\n",
    "filtered_GluOG = pd.DataFrame(columns=FVAgluog.columns)\n",
    "removed_dfOG = pd.DataFrame(columns=FVAgluog.columns)\n",
    "\n",
    "#I want to loop trough the reactions that are indexed in the FVA dataframe and if that idex is one of the reactions in Reactions_remove list, then this reaction\n",
    "#will be reomved from the filtered dataframe. I also made another dataframe for the FVA results of the removed reactions, because it is interesting to get to see\n",
    "#those results as well.\n",
    "for reaction_id in FVAgluog.index:\n",
    "    # Check if the reaction ID is in the Reactions_remove list\n",
    "    if reaction_id in Reactions_remove:\n",
    "        # Append the reaction to the removed_df DataFrame\n",
    "        removed_dfOG.loc[reaction_id] = FVAgluog.loc[reaction_id]\n",
    "    else:\n",
    "        # Append the reaction to the filtered_df DataFrame\n",
    "        filtered_GluOG.loc[reaction_id] = FVAgluog.loc[reaction_id]\n",
    "\n",
    "# Print the filtered DataFrame\n",
    "print(filtered_GluOG[0:30])\n",
    "print(len(filtered_GluOG))"
   ]
  },
  {
   "cell_type": "code",
   "execution_count": null,
   "metadata": {},
   "outputs": [],
   "source": [
    "print(filtered_GluOG)"
   ]
  },
  {
   "cell_type": "code",
   "execution_count": null,
   "metadata": {},
   "outputs": [],
   "source": [
    "\n",
    "\n",
    "import matplotlib.pyplot as plt\n",
    "import numpy as np\n",
    "\n",
    "FVAglu_mid = []\n",
    "for index, row in filtered_Glu.iterrows():\n",
    "    mid_value = (row['minimum'] + row['maximum']) / 2\n",
    "    FVAglu_mid.append(mid_value)\n",
    "\n",
    "FVAglu_range = []\n",
    "for index, row in filtered_Glu.iterrows():\n",
    "    range_value = abs(row['maximum'] - row['minimum'])\n",
    "    FVAglu_range.append(range_value)\n",
    "\n",
    "FVAgluog_mid = []\n",
    "for index, row in filtered_GluOG.iterrows():\n",
    "    mid_value = (row['minimum'] + row['maximum']) / 2\n",
    "    FVAgluog_mid.append(mid_value)\n",
    "\n",
    "FVAgluog_range =[]\n",
    "for index, row in filtered_GluOG.iterrows():\n",
    "    range_valueog = abs(row[\"maximum\"] - row[\"minimum\"])\n",
    "    FVAgluog_range.append(range_valueog)\n",
    "\n",
    "#range_valuesGlu = [x[1] for x in FVAglu_range]\n",
    "#range_valuesGluOG = [x[1] for x in FVAgluog_range]\n",
    "\n",
    "print(FVAglu_range)\n",
    "print(len(FVAglu_range))\n",
    "print(FVAgluog_range)\n",
    "print(len(FVAgluog_range))\n"
   ]
  },
  {
   "cell_type": "code",
   "execution_count": null,
   "metadata": {},
   "outputs": [],
   "source": [
    "import numpy as np\n",
    "import matplotlib.pyplot as plt\n",
    "\n",
    "# Create a figure and axes for range values\n",
    "fig, (ax1, ax2) = plt.subplots(nrows=2, ncols=1, figsize=(10, 10), sharex=True)\n",
    "\n",
    "# Create a list of reaction numbers\n",
    "reaction_numbers = range(1, len(filtered_GluOG) + 1)\n",
    "\n",
    "# Plot the range values for model 1\n",
    "ax1.scatter(reaction_numbers, FVAglu_range, color= \"#1f78b4\", label='New BOF', alpha= 0.6)\n",
    "\n",
    "# Plot the range values for model 2\n",
    "ax1.scatter(reaction_numbers, FVAgluog_range, color=\"grey\", label='Original BOF', alpha= 0.4)\n",
    "\n",
    "\n",
    "# Set labels for the range subplot\n",
    "ax1.set_ylim(0.1,8)\n",
    "ax1.set_ylabel('Range')\n",
    "ax1.grid(axis='y', linestyle='--', alpha=0.5)\n",
    "ax1.spines['top'].set_visible(False)\n",
    "ax1.spines['right'].set_visible(False)\n",
    "ax1.text(0.05, 0.95, 'A', transform=ax1.transAxes, fontsize=16, fontweight='bold')\n",
    "\n",
    "# Plot the mid-values for model 1\n",
    "ax2.scatter(reaction_numbers, FVAglu_mid, s=50, c=\"#1f78b4\", marker='o', label='New BOF', alpha=0.6)\n",
    "\n",
    "# Plot the mid-values for model 2\n",
    "ax2.scatter(reaction_numbers, FVAgluog_mid, s=50, c=\"grey\", marker='o', label='Original BOF', alpha=0.4)\n",
    "\n",
    "# Set y-axis scale to logarithmic for mid-value subplot\n",
    "ax2.set_yscale('log')\n",
    "\n",
    "# Set labels for the mid-value subplot\n",
    "ax2.set_xlabel('Reaction Number')\n",
    "ax2.set_ylim(0.0000001, )\n",
    "ax2.set_ylabel('Log(Mid-Value)')\n",
    "ax2.grid(axis='y', linestyle='--', alpha=0.5)\n",
    "ax2.spines['top'].set_visible(False)\n",
    "ax2.spines['right'].set_visible(False)\n",
    "ax2.text(0.05, 0.95, 'B', transform=ax2.transAxes, fontsize=16, fontweight='bold')\n",
    "\n",
    "# Set the title and legend for the subplots\n",
    "ax1.legend()\n",
    "ax2.legend()\n",
    "\n",
    "\n",
    "# Adjust spacing between subplots\n",
    "#plt.suptitle(\"Glucose\")\n",
    "plt.tight_layout()\n",
    "\n",
    "# Show the plot\n",
    "plt.show()\n"
   ]
  },
  {
   "cell_type": "code",
   "execution_count": null,
   "metadata": {},
   "outputs": [],
   "source": [
    "import matplotlib.pyplot as plt\n",
    "\n",
    "# Plot a histogram of the range values\n",
    "plt.hist(FVAglu_range, bins=10)\n",
    "plt.xlabel('Range')\n",
    "plt.ylabel('Frequency')\n",
    "plt.title('Distribution of Range Values')\n",
    "plt.show()"
   ]
  }
 ],
 "metadata": {
  "kernelspec": {
   "display_name": "Python 3",
   "language": "python",
   "name": "python3"
  },
  "language_info": {
   "codemirror_mode": {
    "name": "ipython",
    "version": 3
   },
   "file_extension": ".py",
   "mimetype": "text/x-python",
   "name": "python",
   "nbconvert_exporter": "python",
   "pygments_lexer": "ipython3",
   "version": "3.9.9"
  },
  "orig_nbformat": 4
 },
 "nbformat": 4,
 "nbformat_minor": 2
}
