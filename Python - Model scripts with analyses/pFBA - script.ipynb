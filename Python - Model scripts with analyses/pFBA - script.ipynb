{
 "cells": [
  {
   "cell_type": "code",
   "execution_count": null,
   "metadata": {},
   "outputs": [],
   "source": [
    "import cobra\n",
    "import pandas as pd \n",
    "\n",
    "\n",
    "Modelnew = cobra.io.read_sbml_model(\"C:/Users/sofie/OneDrive/Documents/Master - Data/ModelSuc.sbml\")    #model with new BOF\n",
    "ModelOg = cobra.io.read_sbml_model(\"C:/Users/sofie/OneDrive/Documents/Master - Data/OGModelSuc.sbml\") "
   ]
  },
  {
   "cell_type": "code",
   "execution_count": null,
   "metadata": {},
   "outputs": [],
   "source": [
    "from cobra.flux_analysis import pfba\n",
    "#parsimonious FBA:\n",
    "newFBA = pfba(Modelnew)\n",
    "#print(newFBA.fluxes)\n",
    "\n",
    "flux_dataframe_new = pd.DataFrame(columns=[\"Reaction\", \"Flux\"])\n",
    "for reaction in Modelnew.reactions:\n",
    "    flux_dataframe_new = flux_dataframe_new.append({\"Reaction\": reaction.id, \"Flux\": newFBA.fluxes[reaction.id]}, ignore_index=True)"
   ]
  },
  {
   "cell_type": "code",
   "execution_count": null,
   "metadata": {},
   "outputs": [],
   "source": [
    "#parsimonious FBA:\n",
    "\n",
    "ogFBA = pfba(ModelOg)\n",
    "#print(newFBA.fluxes)\n",
    "\n",
    "flux_dataframe_og = pd.DataFrame(columns=[\"Reaction\", \"Flux\"])\n",
    "for reaction in ModelOg.reactions:\n",
    "    flux_dataframe_og = flux_dataframe_og.append({\"Reaction\": reaction.id, \"Flux\": ogFBA.fluxes[reaction.id]}, ignore_index=True)"
   ]
  },
  {
   "cell_type": "code",
   "execution_count": null,
   "metadata": {},
   "outputs": [],
   "source": [
    "#Checking to see if i can remove the biomass synthesis reactions so that i can make a plot with the FVA results.\n",
    "Reactions_remove_new = [\"rxn05294new\", \"rxn05295new\", \"rxn05296new\",\"rxn10198new\", \"rxn10200new\", \"rxn10201new\", \"bio00006new\", \"cofactor\"]\n",
    "\n",
    "# Print flux values of reactions to be removed from flux_dataframe_new\n",
    "print(\"Flux values to be removed from flux_dataframe_new:\")\n",
    "for index, row in flux_dataframe_new.iterrows():\n",
    "    if row['Reaction'] in Reactions_remove_new:\n",
    "        print(f\"Reaction: {row['Reaction']}, Flux: {row['Flux']}\")\n",
    "\n",
    "\n",
    "# Iterate through the DataFrame\n",
    "for index, row in flux_dataframe_new.iterrows():\n",
    "    if row['Reaction'] in Reactions_remove_new:\n",
    "        flux_dataframe_new.drop(index, inplace=True)\n",
    "\n",
    "# Print the updated DataFrame\n",
    "#print(flux_dataframe_new)\n",
    "#print(len(flux_dataframe_new))\n",
    "\n",
    "Reactions_remove_og = [\"rxn05294\", \"rxn05295\", \"rxn05296\",\"rxn10198\", \"rxn10200\", \"rxn10201\", \"bio00006\"]\n",
    "\n",
    "# Print flux values of reactions to be removed from flux_dataframe_og\n",
    "print(\"Flux values to be removed from flux_dataframe_og:\")\n",
    "for index, row in flux_dataframe_og.iterrows():\n",
    "    if row['Reaction'] in Reactions_remove_og:\n",
    "        print(f\"Reaction: {row['Reaction']}, Flux: {row['Flux']}\")\n",
    "\n",
    "for index, row in flux_dataframe_og.iterrows():\n",
    "    if row['Reaction'] in Reactions_remove_og:\n",
    "        flux_dataframe_og.drop(index, inplace=True)\n"
   ]
  },
  {
   "cell_type": "code",
   "execution_count": null,
   "metadata": {},
   "outputs": [],
   "source": [
    "import numpy as np\n",
    "import matplotlib.pyplot as plt\n",
    "\n",
    "\n",
    "#Colors = ['#1f78b4', '#b2df8a', '#33a02c', '#cab2d6', '#a2438d']\n",
    "\n",
    "\n",
    "FBAnew = flux_dataframe_new[\"Flux\"].tolist()\n",
    "FBAog  = flux_dataframe_og[\"Flux\"].tolist()\n",
    "reactions = range(1, len(FBAnew) + 1)\n",
    "\n",
    "plt.figure(figsize=(5, 6)) \n",
    "\n",
    "# Plot the range values for model 1\n",
    "plt.scatter(reactions, FBAnew, color='#a2438d', label='new BOF', alpha = 1)\n",
    "\n",
    "# Plot the range values for model 2\n",
    "plt.scatter(reactions, FBAog, color='gray', label='Original BOF', alpha= 0.4)\n",
    "#plt.gca().set_facecolor('white')\n",
    "\n",
    "# Set labels for the range subplot\n",
    "plt.grid(axis='y', linestyle='--', alpha=0.5)\n",
    "plt.ylabel(\"  \", fontsize = 12) #Reaction flux (mmol gDW$^{-1}$ h$^{-1}$)\n",
    "plt.xlabel(\"Reaction number\", fontsize = 12) #Reaction number\n",
    "plt.ylim(-4.9, 5.0)\n",
    "\n",
    "\n",
    "plt.legend(fontsize = 10, loc=\"upper right\")\n",
    "plt.savefig('C:/Users/sofie/OneDrive/Documents/Master - Data/Figurer/FBA_FVA/FBA--Succinate.svg', dpi=300,  bbox_inches='tight')\n",
    "plt.show()\n",
    "\n",
    "#enzymbegrenset modell vil ta kostnad for reaksjonsvei i betraktning.\n",
    "    "
   ]
  },
  {
   "cell_type": "code",
   "execution_count": null,
   "metadata": {},
   "outputs": [],
   "source": [
    "\n",
    "sorted_dataframe_new = flux_dataframe_new.sort_values(by=\"Flux\", ascending=False)\n",
    "print(sorted_dataframe_new[0:50])"
   ]
  },
  {
   "cell_type": "code",
   "execution_count": null,
   "metadata": {},
   "outputs": [],
   "source": [
    "sorted_dataframe_og = flux_dataframe_og.sort_values(by=\"Flux\", ascending=False)\n",
    "print(sorted_dataframe_og [0:50])"
   ]
  },
  {
   "cell_type": "code",
   "execution_count": null,
   "metadata": {},
   "outputs": [],
   "source": [
    "Threshold = 0.1\n",
    "\n",
    "\n",
    "# Merge the dataframes based on reaction IDs\n",
    "merged_df = pd.merge(flux_dataframe_new, flux_dataframe_og, on='Reaction', suffixes=['_new', '_old'])\n",
    "\n",
    "# Filter out rows where flux values differ\n",
    "differing_flux = merged_df[abs(merged_df['Flux_new'] - merged_df['Flux_old']) > Threshold]\n",
    "\n",
    "# Print reaction IDs and differing flux values\n",
    "for index, row in differing_flux.iterrows():\n",
    "    reaction_id = row['Reaction']\n",
    "    flux_new = row['Flux_new']\n",
    "    flux_old = row['Flux_old']\n",
    "    print(f\"Reaction ID: {reaction_id}, Flux (new): {flux_new}, Flux (old): {flux_old}\")\n",
    "\n"
   ]
  }
 ],
 "metadata": {
  "kernelspec": {
   "display_name": "Python 3",
   "language": "python",
   "name": "python3"
  },
  "language_info": {
   "codemirror_mode": {
    "name": "ipython",
    "version": 3
   },
   "file_extension": ".py",
   "mimetype": "text/x-python",
   "name": "python",
   "nbconvert_exporter": "python",
   "pygments_lexer": "ipython3",
   "version": "3.9.9"
  },
  "orig_nbformat": 4
 },
 "nbformat": 4,
 "nbformat_minor": 2
}
