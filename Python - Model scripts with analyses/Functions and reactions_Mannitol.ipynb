{
 "cells": [
  {
   "cell_type": "code",
   "execution_count": 1,
   "metadata": {},
   "outputs": [],
   "source": [
    "import cobra\n",
    "from cobra import Metabolite, Reaction\n",
    "import gurobipy\n",
    "\n",
    "def make_reaction (df, model):\n",
    "    \"\"\"\n",
    "    df: Takes in a dataframe with two columns; metabolite IDs in one and their coefficients (mmol/gDW) in the other. \n",
    "    model: Takes in the model that contains the metabolite objects\n",
    "    Return: This function will returen a reaction with metabolite objects (from the metabolite IDs in the dataframes) with corresponding coefficients from df.\n",
    "    Essentially pairs the coefficients to the metabolite objects already in the model. Important so that both coefficients and other potential attributes already\n",
    "    in the model are all paired to the metabolite.\"\"\"\n",
    "\n",
    "    metabolite_to_coef = {} #Dictionary, maps metabolite object to coef. Float.\n",
    "    for list in df.values.tolist():\n",
    "        metabolite_to_coef[model.metabolites.get_by_id(list[1])] = float(list[0])\n",
    "\n",
    "\n",
    "    reaction = Reaction ()\n",
    "    reaction.add_metabolites(metabolite_to_coef)\n",
    "    return reaction\n",
    "\n",
    "def modify_reaction (reaction, reaction_id, model):\n",
    "\n",
    "    \"\"\"\n",
    "    Reaction: The reaction object\n",
    "    Reaction_id: The ID of the reaction where the attributes are gathered from.\n",
    "    Model: The model that contains the reaction object with reaction ID.\n",
    "    Return: Returns object with the same id, name, substystem, lower- and upper bound as reaction object from model with id = reaction_id.\n",
    "    Returns a rection variable that has the same attributes as the corresponding reaction from the model. Creates a new reaction object that \n",
    "    is connected to the attributes of the existing reaction in the model.\n",
    "    \"\"\"\n",
    "\n",
    "    reaction.id = model.reactions.get_by_id(reaction_id).id + \"new\"\n",
    "    reaction.name = model.reactions.get_by_id(reaction_id).name\n",
    "    reaction.subsystem = model.reactions.get_by_id(reaction_id).subsystem\n",
    "    reaction.lower_bound = model.reactions.get_by_id(reaction_id).lower_bound\n",
    "    reaction.upper_bound = model.reactions.get_by_id(reaction_id).upper_bound\n",
    "    return reaction\n",
    "\n",
    "\n",
    "def new_synthesis_reaction(df, rxn_id, model):\n",
    "    \"\"\"\n",
    "    :param df: DataFrame with two columns: Coefficient (mmol/gDW) and metabolite ID.\n",
    "    :param rxn_id: Reaction ID of the original synthesis Reaction object.\n",
    "    :param model: The metabolic model in use.\n",
    "    :return: New synthesis Reaction object with the metabolites and coefficients from df.\n",
    "    \"\"\"\n",
    "    synthesis_reaction = make_reaction(df, model)\n",
    "    synthesis_reaction = modify_reaction(synthesis_reaction, rxn_id, model)\n",
    "\n",
    "    return synthesis_reaction"
   ]
  },
  {
   "cell_type": "code",
   "execution_count": 2,
   "metadata": {},
   "outputs": [
    {
     "name": "stdout",
     "output_type": "stream",
     "text": [
      "Set parameter Username\n",
      "Academic license - for non-commercial use only - expires 2024-04-25\n"
     ]
    }
   ],
   "source": [
    "import cobra\n",
    "from cobra import Reaction, Metabolite\n",
    "import pandas as pd \n",
    "import os\n",
    "\n",
    "os.getcwd()\n",
    "os.chdir(\"C:/Users/sofie/OneDrive/Documents/Master - Data/\")\n",
    "\n",
    "#I take in two models, so that I have one that will retain the original BOF from the model to compare results with. The iBsu1147mann will have the updated, experimentally derived coefficients.\n",
    "#The iBsu1147ogm model will keep the original BOF.\n",
    "iBsu1147mann = cobra.io.read_sbml_model(\"iBsu1147.xml\")    #model with new BOF\n",
    "iBsu1147ogm = cobra.io.read_sbml_model(\"iBsu1147.xml\")     #model with original BOF\n",
    "\n",
    "#The names and IDs are mixed up. In the code below this is corrected for. The metabolite.name function will provde the name of the metabolite. \n",
    "# The metabolite.id will now return the ID of the metabolite.\n",
    "for metabolite in iBsu1147mann.metabolites:\n",
    "    name = metabolite.id\n",
    "    id = metabolite.name\n",
    "\n",
    "    metabolite.name = name\n",
    "    metabolite.id = id\n",
    "\n",
    "for metabolite in iBsu1147ogm.metabolites:\n",
    "    name = metabolite.id\n",
    "    id = metabolite.name\n",
    "\n",
    "    metabolite.name = name\n",
    "    metabolite.id = id"
   ]
  },
  {
   "cell_type": "code",
   "execution_count": 3,
   "metadata": {},
   "outputs": [
    {
     "name": "stdout",
     "output_type": "stream",
     "text": [
      "cofactor: 0.406841373641698 C00003[c] + 0.005285365155927 C00005[c] + 0.0235128411879642 C00006[c] + 0.00284963130743174 C00010[c] + 0.117296253333691 C00020[c] + 0.00494595852149485 C00035[c] + 0.0109034381311329 C00044[c] + 0.0257457795723863 C00055[c] + 0.0136320888368966 C00063[c] + 0.0666085520073099 C00076[c] + 0.00652911183605009 C00112[c] + 0.0132614210650826 C00144[c] + 0.00461840878988398 C00234[c] + 14.6838028159594 C00238[c] + 2.11548582540145 C00305[c] + 0.00334427181834891 C00828[c] + 0.0716549927561037 C14819[c] <=> Cofactor[c]\n"
     ]
    }
   ],
   "source": [
    "#COFACTORS AND IONS:\n",
    "#I use the functions that have been defined earlier to create the cofactor reaction. This reaction is not a part of the original BOF. It does not contain any new/updated numbers. It has just had all the substrates \n",
    "#from the origional BOF that are metabolites, cofactors or ions lumped together to one synthesis reaction to ease the process of modifying the BOF.\n",
    "\n",
    "os.chdir(\"C:/Users/sofie/OneDrive/Documents/Master - Data/\")\n",
    "\n",
    "cofactor = Metabolite( id=\"Cofactor[c]\", formula= None, name=\"cofactor\", charge= None, compartment= \"c\")\n",
    "iBsu1147mann.add_metabolites(cofactor)\n",
    "\n",
    "#Because the cofactor metabolite and reaction are not a part of the model, a new metabolite had to be made and added to the iBsu1147gly.\n",
    "cofactors_ions_df = pd.read_excel(\"Macromolecule-synthesis.xlsx\",\"Cofactor\") \n",
    "cofac_synthesis= make_reaction(cofactors_ions_df, iBsu1147mann)\n",
    "cofac_synthesis.name = \"cofac_synthesis\"\n",
    "cofac_synthesis.id = \"cofactor\"\n",
    "cofac_synthesis.lower_bound = -1000.0\n",
    "cofac_synthesis.upper_bound = 1000\n",
    "\n",
    "print(cofac_synthesis)"
   ]
  },
  {
   "cell_type": "code",
   "execution_count": 4,
   "metadata": {},
   "outputs": [
    {
     "name": "stdout",
     "output_type": "stream",
     "text": [
      "rxn05294new: 0.925419454369164 C00131[c] + 0.700555089212493 C00286[c] + 0.699717605543381 C00458[c] + 0.921964834234075 C00459[c] <=> 3.24765698335911 C00013[c] + C00039[c]\n"
     ]
    }
   ],
   "source": [
    "#DNA:\n",
    "#Constructing the new DNA synthesis reaction using the previously defined functions.\n",
    "DNA_df = pd.read_excel(\"Macromolecule-synthesis.xlsx\",\"DNA\")\n",
    "DNA_synthesis = make_reaction(DNA_df, iBsu1147mann)\n",
    "modify_reaction(DNA_synthesis, \"rxn05294\", iBsu1147mann)\n",
    "print(DNA_synthesis)"
   ]
  },
  {
   "cell_type": "code",
   "execution_count": 5,
   "metadata": {},
   "outputs": [
    {
     "name": "stdout",
     "output_type": "stream",
     "text": [
      "rxn05295new: 0.810318111715803 C00002[c] + 0.998544094063492 C00044[c] + 0.615467416022917 C00063[c] + 0.665731114102355 C00075[c] --> 3.09006073590457 C00013[c] + cpd11462[c]\n"
     ]
    }
   ],
   "source": [
    "#RNA:\n",
    "#Constructing the new RNA synthesis reaction using the previously defined functions.\n",
    "RNA_df = pd.read_excel(\"Macromolecule-synthesis.xlsx\",\"RNA\")\n",
    "RNA_synthesis = make_reaction(RNA_df, iBsu1147mann)\n",
    "\n",
    "RNA_synthesis = modify_reaction(RNA_synthesis, \"rxn05295\", iBsu1147mann)\n",
    "\n",
    "print(RNA_synthesis)"
   ]
  },
  {
   "cell_type": "code",
   "execution_count": 6,
   "metadata": {},
   "outputs": [
    {
     "name": "stdout",
     "output_type": "stream",
     "text": [
      "rxn10201new: 0.0182341974255657 cpd15529[c] + 0.0735693637318944 cpd15531[c] + 0.0249314494535681 cpd15533[c] + 0.00572228475376097 cpd15536[c] + 0.0231742993712587 cpd15538[c] + 0.00787805688331436 cpd15540[c] + 0.0539093645252547 cpd15695[c] + 0.126715623078546 cpd15696[c] + 0.00871948075130027 cpd15697[c] + 0.146496112576544 cpd15698[c] + 0.248310408774362 cpd15699[c] + 0.0342393244610017 cpd15700[c] + 0.00874458289533326 cpd15707[c] + 0.00210355966996477 cpd15708[c] + 0.00304137577103737 cpd15709[c] + 0.00649442670421581 cpd15710[c] + 0.0152621035720594 cpd15711[c] + 0.00100609393284234 cpd15712[c] + 0.0171698665185669 cpd15713[c] + 0.0290883645054317 cpd15714[c] + 0.00406955959062874 cpd15715[c] + 0.0170092127967557 cpd15722[c] + 0.0399826950157504 cpd15723[c] + 0.0027371377853575 cpd15724[c] + 0.046077495586961 cpd15725[c] + 0.0780777088002198 cpd15726[c] + 0.0107838810765736 cpd15727[c] + 0.014529120966296 cpd15728[c] + 0.00353136962256138 cpd15729[c] + 0.00500938386322398 cpd15730[c] + 0.0107437176461208 cpd15731[c] + 0.0252527568971904 cpd15732[c] + 0.00168887225053973 cpd15733[c] + 0.0286666484856774 cpd15734[c] + 0.048577669132647 cpd15735[c] + 0.00676251760248817 cpd15736[c] + 0.0112357196691674 cpd15737[c] + 0.00277127670124237 cpd15738[c] + 0.0038225544933441 cpd15739[c] + 0.00824956861500265 cpd15740[c] + 0.0193888960510834 cpd15741[c] + 0.001325393204942 cpd15742[c] + 0.0223308673317501 cpd15743[c] + 0.0378339514865263 cpd15744[c] + 0.00522927864495299 cpd15745[c] + 0.00285662399095454 cpd15782[c] + 0.00069623306689908 cpd15783[c] + 0.00098169464884227 cpd15784[c] + 0.00210858009877137 cpd15785[c] + 0.00495516323211272 cpd15786[c] + 0.000332954838453612 cpd15787[c] + 0.00564396606437803 cpd15788[c] + 0.0095619087050475 cpd15789[c] + 0.00132940954798728 cpd15790[c] + 0.000600142059540784 cpd15791[c] + 0.000149006326979843 cpd15792[c] + 0.000203026140938843 cpd15793[c] + 0.000439287520577368 cpd15794[c] + 0.00103220016263665 cpd15795[c] + 0.00119687022749308 cpd15797[c] + 0.00202724915210447 cpd15798[c] + 0.000279236250223008 cpd15799[c] <=> cpd15800[c]\n",
      "rxn10201: 0.01816 cpd15529[c] + 0.07327 cpd15531[c] + 0.02483 cpd15533[c] + 0.005699 cpd15536[c] + 0.02308 cpd15538[c] + 0.007846 cpd15540[c] + 0.05369 cpd15695[c] + 0.1262 cpd15696[c] + 0.008684 cpd15697[c] + 0.1459 cpd15698[c] + 0.2473 cpd15699[c] + 0.0341 cpd15700[c] + 0.008709 cpd15707[c] + 0.002095 cpd15708[c] + 0.003029 cpd15709[c] + 0.006468 cpd15710[c] + 0.0152 cpd15711[c] + 0.001002 cpd15712[c] + 0.0171 cpd15713[c] + 0.02897 cpd15714[c] + 0.004053 cpd15715[c] + 0.01694 cpd15722[c] + 0.03982 cpd15723[c] + 0.002726 cpd15724[c] + 0.04589 cpd15725[c] + 0.07776 cpd15726[c] + 0.01074 cpd15727[c] + 0.01447 cpd15728[c] + 0.003517 cpd15729[c] + 0.004989 cpd15730[c] + 0.0107 cpd15731[c] + 0.02515 cpd15732[c] + 0.001682 cpd15733[c] + 0.02855 cpd15734[c] + 0.04838 cpd15735[c] + 0.006735 cpd15736[c] + 0.01119 cpd15737[c] + 0.00276 cpd15738[c] + 0.003807 cpd15739[c] + 0.008216 cpd15740[c] + 0.01931 cpd15741[c] + 0.00132 cpd15742[c] + 0.02224 cpd15743[c] + 0.03768 cpd15744[c] + 0.005208 cpd15745[c] + 0.002845 cpd15782[c] + 0.0006934 cpd15783[c] + 0.0009777 cpd15784[c] + 0.0021 cpd15785[c] + 0.004935 cpd15786[c] + 0.0003316 cpd15787[c] + 0.005621 cpd15788[c] + 0.009523 cpd15789[c] + 0.001324 cpd15790[c] + 0.0005977 cpd15791[c] + 0.0001484 cpd15792[c] + 0.0002022 cpd15793[c] + 0.0004375 cpd15794[c] + 0.001028 cpd15795[c] + 0.001192 cpd15797[c] + 0.002019 cpd15798[c] + 0.0002781 cpd15799[c] <=> cpd15800[c]\n"
     ]
    }
   ],
   "source": [
    "#Lipid:\n",
    "Lipid_df = pd.read_excel(\"Macromolecule-synthesis.xlsx\",\"Lipid\")\n",
    "Lipid_synthesis = make_reaction(Lipid_df, iBsu1147mann)\n",
    "\n",
    "Lipid_synthesis = modify_reaction(Lipid_synthesis, \"rxn10201\", iBsu1147mann)\n",
    "print(Lipid_synthesis)\n",
    "print(iBsu1147mann.reactions.get_by_id(\"rxn10201\"))"
   ]
  },
  {
   "cell_type": "code",
   "execution_count": 7,
   "metadata": {},
   "outputs": [
    {
     "name": "stdout",
     "output_type": "stream",
     "text": [
      "rxn10200new: 0.00488084303736876 cpd15746[c] + 0.00112542250060168 cpd15747[c] + 0.00176637167875183 cpd15748[c] + 0.00369824666641567 cpd15749[c] + 0.00869343744448727 cpd15750[c] + 0.000538136516553297 cpd15751[c] + 0.00938453914048955 cpd15752[c] + 0.0158983481591235 cpd15753[c] + 0.0022709060083442 cpd15754[c] + 0.00227592126012941 cpd15755[c] + 0.0005216864906978 cpd15756[c] + 0.000828218679809985 cpd15757[c] + 0.00172925881554125 cpd15758[c] + 0.00406536309709322 cpd15759[c] + 0.000249558928832172 cpd15760[c] + 0.00436326905313484 cpd15761[c] + 0.00739248113140316 cpd15762[c] + 0.00105922117703687 cpd15763[c] + 0.00203819832551034 cpd15764[c] + 0.00046691994120328 cpd15765[c] + 0.000742357569247148 cpd15766[c] + 0.00154971280163065 cpd15767[c] + 0.00364207584642129 cpd15768[c] + 0.000223379314513363 cpd15769[c] + 0.0039068811406805 cpd15770[c] + 0.0066191293061234 cpd15771[c] + 0.000948584722655084 cpd15772[c] + 0.00646064734971069 cpd15773[c] + 0.00148451452842289 cpd15774[c] + 0.00234613478512239 cpd15775[c] + 0.00490391319558074 cpd15776[c] + 0.0115250486024182 cpd15777[c] + 0.000709959042714675 cpd15778[c] + 0.0123977024130452 cpd15779[c] + 0.0210038744764698 cpd15780[c] + 0.00300614192005635 cpd15781[c] <=> cpd15670[c]\n",
      "rxn10200: 0.004866 cpd15746[c] + 0.001122 cpd15747[c] + 0.001761 cpd15748[c] + 0.003687 cpd15749[c] + 0.008667 cpd15750[c] + 0.0005365 cpd15751[c] + 0.009356 cpd15752[c] + 0.01585 cpd15753[c] + 0.002264 cpd15754[c] + 0.002269 cpd15755[c] + 0.0005201 cpd15756[c] + 0.0008257 cpd15757[c] + 0.001724 cpd15758[c] + 0.004053 cpd15759[c] + 0.0002488 cpd15760[c] + 0.00435 cpd15761[c] + 0.00737 cpd15762[c] + 0.001056 cpd15763[c] + 0.002032 cpd15764[c] + 0.0004655 cpd15765[c] + 0.0007401 cpd15766[c] + 0.001545 cpd15767[c] + 0.003631 cpd15768[c] + 0.0002227 cpd15769[c] + 0.003895 cpd15770[c] + 0.006599 cpd15771[c] + 0.0009457 cpd15772[c] + 0.006441 cpd15773[c] + 0.00148 cpd15774[c] + 0.002339 cpd15775[c] + 0.004889 cpd15776[c] + 0.01149 cpd15777[c] + 0.0007078 cpd15778[c] + 0.01236 cpd15779[c] + 0.02094 cpd15780[c] + 0.002997 cpd15781[c] <=> cpd15670[c]\n"
     ]
    }
   ],
   "source": [
    "#Lipoteichoic acid:\n",
    "\n",
    "#print(iBsu1147.reactions.get_by_id(\"rxn10200\"))\n",
    "Lipo_df = pd.read_excel(\"Macromolecule-synthesis.xlsx\", \"Lipoteichoic_acid\")\n",
    "Lipo_synthesis = make_reaction(Lipo_df, iBsu1147mann)\n",
    "Lipo_synthesis = modify_reaction(Lipo_synthesis, \"rxn10200\", iBsu1147mann)\n",
    "\n",
    "print(Lipo_synthesis)\n",
    "print(iBsu1147mann.reactions.get_by_id(\"rxn10200\"))"
   ]
  },
  {
   "cell_type": "code",
   "execution_count": 8,
   "metadata": {},
   "outputs": [
    {
     "name": "stdout",
     "output_type": "stream",
     "text": [
      "rxn10198new: 0.0145386839210681 cpd11459[c] + 0.454208539051299 cpd15665[c] + 0.0160426857060061 cpd15667[c] + 0.0112298799942043 cpd15668[c] + 0.0081015562815331 cpd15669[c] <=> cpd15664[c] + 0.489582661033042 cpd15666[c]\n"
     ]
    }
   ],
   "source": [
    "#Cell wall:\n",
    "\n",
    "Cellwall_df = pd.read_excel(\"Macromolecule-synthesis.xlsx\",\"Cell_wall\")\n",
    "Cellwall_synthesis = make_reaction(Cellwall_df, iBsu1147mann)\n",
    "Cellwall = modify_reaction(Cellwall_synthesis, \"rxn10198\", iBsu1147mann)\n",
    "\n",
    "print(Cellwall)"
   ]
  },
  {
   "cell_type": "code",
   "execution_count": 9,
   "metadata": {},
   "outputs": [
    {
     "name": "stdout",
     "output_type": "stream",
     "text": [
      "rxn05296: 0.5051 C00886[c] + 0.6114 C01931[c] + 0.6555 C02047[c] + 0.3653 C02163[c] + 0.4928 C02282[c] + 0.7723 C02412[c] + 0.2145 C02430[c] + 0.4091 C02553[c] + 0.5807 C02554[c] + 0.3041 C02702[c] + 0.2097 C02839[c] + 0.2801 C02984[c] + 0.4928 C02987[c] + 0.1546 C02988[c] + 0.3526 C02992[c] + 0.1073 C03125[c] + 0.5107 C03127[c] + 0.2801 C03402[c] + 0.3329 C03511[c] + 0.1028 C03512[c] <=> C00017[c] + 0.2097 C00787[c] + 0.5051 C01635[c] + 0.3653 C01636[c] + 0.2801 C01637[c] + 0.2801 C01638[c] + 0.1073 C01639[c] + 0.4928 C01640[c] + 0.4928 C01641[c] + 0.7723 C01642[c] + 0.1546 C01643[c] + 0.5107 C01644[c] + 0.6555 C01645[c] + 0.6114 C01646[c] + 0.2145 C01647[c] + 0.3329 C01648[c] + 0.3041 C01649[c] + 0.4091 C01650[c] + 0.3526 C01651[c] + 0.1028 C01652[c] + 0.5807 C01653[c]\n",
      "rxn05296new: 0.924181224557816 C00886[c] + 0.529528614020619 C01931[c] + 0.586236764447444 C02047[c] + 0.344630811549746 C02163[c] + 0.396831479423161 C02282[c] + 0.582012983839015 C02412[c] + 0.216674871149239 C02430[c] + 0.342593132865641 C02553[c] + 0.512527556811348 C02554[c] + 0.284692651008846 C02702[c] + 0.168912860324397 C02839[c] + 0.377382648306378 C02984[c] + 0.750738249486521 C02987[c] + 0.108907092824631 C02988[c] + 0.472729937328297 C02992[c] + 0.0611813792184638 C03125[c] + 0.425983140820422 C03127[c] + 0.287754564182244 C03402[c] + 0.256643615676684 C03511[c] + 0.080349740132162 C03512[c] <=> C00017[c] + 0.168912860324397 C00787[c] + 0.924181224557816 C01635[c] + 0.344630811549746 C01636[c] + 0.287754564182244 C01637[c] + 0.377382648306378 C01638[c] + 0.0611813792184638 C01639[c] + 0.396831479423161 C01640[c] + 0.750738249486521 C01641[c] + 0.582012983839015 C01642[c] + 0.108907092824631 C01643[c] + 0.425983140820422 C01644[c] + 0.586236764447444 C01645[c] + 0.529528614020619 C01646[c] + 0.216674871149239 C01647[c] + 0.256643615676684 C01648[c] + 0.284692651008846 C01649[c] + 0.342593132865641 C01650[c] + 0.472729937328297 C01651[c] + 0.080349740132162 C01652[c] + 0.512527556811348 C01653[c]\n"
     ]
    }
   ],
   "source": [
    "#proteins Glycerol:\n",
    "print(iBsu1147mann.reactions.get_by_id(\"rxn05296\"))\n",
    "PMann_df = pd.read_excel(\"macromolecule-synthesis.xlsx\", \"Proteins_Mann\")\n",
    "PMann_synthesis = make_reaction(PMann_df, iBsu1147mann)\n",
    "\n",
    "PMann_synthesis = modify_reaction(PMann_synthesis, \"rxn05296\", iBsu1147mann)\n",
    "print(PMann_synthesis)\n"
   ]
  },
  {
   "cell_type": "code",
   "execution_count": 10,
   "metadata": {},
   "outputs": [
    {
     "name": "stdout",
     "output_type": "stream",
     "text": [
      "bio00006new: 105.0 C00001[c] + 105.003 C00002[c] + 0.518547974140424 C00017[c] + 0.0484219374456551 C00039[c] + 0.000273109 C00229[c] + 0.0446336317745074 Cofactor[c] + 0.0899574750752081 cpd11462[c] + 0.2242 cpd15664[c] + 0.0304 cpd15670[c] + 0.0336668435453882 cpd15800[c] --> 104.997 C00008[c] + 104.987 C00009[c] + 0.000273109 C03688[c]\n"
     ]
    }
   ],
   "source": [
    "#Biomass objective function:\n",
    "\n",
    "Datafile = pd.read_excel(\"BOF_ny.xlsx\", \"Mannitol\")\n",
    "\n",
    "BOF_df = pd.DataFrame(Datafile, columns= [\"g/gDW\", \"BOF-ID\"])\n",
    "                      \n",
    "BOFrx = make_reaction(BOF_df, iBsu1147mann)\n",
    "\n",
    "BOFmann = modify_reaction(BOFrx, \"bio00006\", iBsu1147mann)\n",
    "print(BOFmann)"
   ]
  },
  {
   "cell_type": "code",
   "execution_count": 11,
   "metadata": {},
   "outputs": [
    {
     "name": "stdout",
     "output_type": "stream",
     "text": [
      "1736\n"
     ]
    },
    {
     "name": "stderr",
     "output_type": "stream",
     "text": [
      "c:\\Users\\sofie\\AppData\\Local\\Programs\\Python\\Python39\\lib\\site-packages\\cobra\\core\\group.py:107: UserWarning: need to pass in a list\n",
      "  warn(\"need to pass in a list\")\n"
     ]
    }
   ],
   "source": [
    "#Removing old BOF-synthesis reactions\n",
    "SynthesisIDs = [\"rxn05294\", \"rxn05295\", \"rxn05296\", \"rxn10198\", \"rxn10200\", \"rxn10201\", \"bio00006\"]\n",
    "for IDs in SynthesisIDs:\n",
    "    iBsu1147mann.remove_reactions([IDs])\n",
    "\n",
    "print(len(iBsu1147mann.reactions))"
   ]
  },
  {
   "cell_type": "code",
   "execution_count": 12,
   "metadata": {},
   "outputs": [
    {
     "name": "stdout",
     "output_type": "stream",
     "text": [
      "1744\n"
     ]
    }
   ],
   "source": [
    "#Adding new reactions:  \n",
    "synthesis_reactions = (cofac_synthesis, DNA_synthesis, RNA_synthesis, Lipid_synthesis, Lipo_synthesis, Cellwall, PMann_synthesis, BOFmann)\n",
    "\n",
    "for reactions in synthesis_reactions:\n",
    "    iBsu1147mann.add_reactions([reactions])\n",
    "\n",
    "print(len(iBsu1147mann.reactions))"
   ]
  },
  {
   "cell_type": "code",
   "execution_count": 13,
   "metadata": {},
   "outputs": [
    {
     "data": {
      "text/plain": [
       "'\\nfor exchange in iBsu1147.exchanges:\\n    print(exchange.id, exchange.lower_bound, exchange.upper_bound)'"
      ]
     },
     "execution_count": 13,
     "metadata": {},
     "output_type": "execute_result"
    }
   ],
   "source": [
    "# importing df that contains the components of the minimal medium used experimentally\n",
    "os.getcwd()\n",
    "os.chdir(\"C:/Users/sofie/OneDrive/Documents/Master - Data/\")\n",
    "\n",
    "experimental_medium_df = pd.read_excel(\"Medium.xlsx\", \"Mannitol\")\n",
    "\n",
    "Exchange_reactions_medium = experimental_medium_df[\"Exchange reaction ID\"]\n",
    "\n",
    "exchange_reactions = Exchange_reactions_medium.values.tolist()\n",
    "\n",
    "#The bacteria in the batch fermentation experiments were incubated in minimal media with their respecitive C-source.\n",
    "#In order to make sure the model predictions are based on what was available to the bacteria during the experiments,\n",
    "#the flux ranges for the exchange reactions for components in the media must be set to -1000 and 1000. \n",
    "#That means that the components that were in the cultivation media, is the same as what is \"available\" in the model.\n",
    "\n",
    "for exchange in iBsu1147mann.exchanges:\n",
    "    if exchange.id in exchange_reactions:  # if the component from the exchange reaction was\n",
    "        # available in the medium, the model should be able to take up and secrete it.\n",
    "        iBsu1147mann.reactions.get_by_id(exchange.id).lower_bound = -1000.0\n",
    "        iBsu1147mann.reactions.get_by_id(exchange.id).upper_bound = 1000.0\n",
    "    else:\n",
    "        # if the exchange reaction is not part of the medium, it can't be taken up from the media. However,\n",
    "        # it is possible for the bacteria to secrete it.\n",
    "        iBsu1147mann.reactions.get_by_id(exchange.id).lower_bound = 0.0\n",
    "        iBsu1147mann.reactions.get_by_id(exchange.id).upper_bound = 1000.0\n",
    "\n",
    "#changing the medium composition for the model with the original BOF:\n",
    "for exchange in iBsu1147ogm.exchanges:\n",
    "    if exchange.id in exchange_reactions: \n",
    "        iBsu1147ogm.reactions.get_by_id(exchange.id).lower_bound = -1000.0\n",
    "        iBsu1147ogm.reactions.get_by_id(exchange.id).upper_bound = 1000.0\n",
    "    else:\n",
    "        iBsu1147ogm.reactions.get_by_id(exchange.id).lower_bound = 0.0\n",
    "        iBsu1147ogm.reactions.get_by_id(exchange.id).upper_bound = 1000.0\n",
    "\n",
    "\"\"\"\n",
    "for exchange in iBsu1147.exchanges:\n",
    "    print(exchange.id, exchange.lower_bound, exchange.upper_bound)\"\"\""
   ]
  },
  {
   "cell_type": "code",
   "execution_count": 14,
   "metadata": {},
   "outputs": [
    {
     "name": "stdout",
     "output_type": "stream",
     "text": [
      "Maximize\n",
      "1.0*bio00006new - 1.0*bio00006new_reverse_1501f\n",
      "<Solution 22.531 at 0x1da236b9520>\n",
      "cofactor 1.0056292989792341\n",
      "rxn05294new 1.090982675456458\n",
      "rxn05295new 2.02680958284672\n",
      "rxn10201new 0.7585393105458522\n",
      "rxn10200new 0.684934868025449\n",
      "rxn10198new 5.051394651687687\n",
      "rxn05296new 11.683275928708397\n",
      "bio00006new 22.530752237679245\n"
     ]
    }
   ],
   "source": [
    "#Setting the new objective function:\n",
    "iBsu1147mann.reactions.get_by_id(\"bio00006new\").lower_bound = -1000.0\n",
    "iBsu1147mann.reactions.get_by_id(\"bio00006new\").upper_bound = 1000.0\n",
    "\n",
    "iBsu1147mann.objective = \"bio00006new\"\n",
    "print(iBsu1147mann.objective)\n",
    "print(iBsu1147mann.optimize())\n",
    "\n",
    "New_reactions = [cofac_synthesis, DNA_synthesis, RNA_synthesis, Lipid_synthesis, Lipo_synthesis, Cellwall, PMann_synthesis, BOFmann]\n",
    "\n",
    "for reaction in New_reactions:\n",
    "    print(reaction.id, iBsu1147mann.optimize().fluxes[reaction.id])"
   ]
  },
  {
   "cell_type": "code",
   "execution_count": 15,
   "metadata": {},
   "outputs": [
    {
     "name": "stdout",
     "output_type": "stream",
     "text": [
      "Maximize\n",
      "1.0*bio00006new - 1.0*bio00006new_reverse_1501f\n",
      "Flux through reaction rxn05294new : 1.090982675456458\n",
      "Flux through reaction rxn05295new : 2.02680958284672\n",
      "Flux through reaction rxn05296new : 11.683275928708397\n",
      "Flux through reaction rxn10198new : 5.051394651687687\n",
      "Flux through reaction rxn10200new : 0.684934868025449\n",
      "Flux through reaction rxn10201new : 0.7585393105458522\n",
      "Flux through reaction bio00006new : 22.530752237679245\n",
      "Flux through reaction cofactor : 1.0056292989792341\n"
     ]
    }
   ],
   "source": [
    "print(iBsu1147mann.objective)\n",
    "iBsu1147mann.optimize()\n",
    "\n",
    "SynthesisIDs = [\"rxn05294new\", \"rxn05295new\", \"rxn05296new\",\"rxn10198new\", \"rxn10200new\", \"rxn10201new\", \"bio00006new\", \"cofactor\"]\n",
    "\n",
    "for reactionID in SynthesisIDs:\n",
    "    print(\"Flux through reaction\", reactionID, \":\", iBsu1147mann.reactions.get_by_id(reactionID).flux)"
   ]
  },
  {
   "cell_type": "code",
   "execution_count": 16,
   "metadata": {},
   "outputs": [
    {
     "name": "stdout",
     "output_type": "stream",
     "text": [
      "Maximize\n",
      "1.0*bio00006 - 1.0*bio00006_reverse_45381\n",
      "Flux through reaction rxn05294 : 0.0026\n",
      "Flux through reaction rxn05295 : 0.00655\n",
      "Flux through reaction rxn05296 : 0.05284\n",
      "Flux through reaction rxn10198 : 0.022420000000000002\n",
      "Flux through reaction rxn10200 : 0.00304\n",
      "Flux through reaction rxn10201 : 0.0076\n",
      "Flux through reaction bio00006 : 0.1\n"
     ]
    }
   ],
   "source": [
    "print(iBsu1147ogm.objective)\n",
    "iBsu1147ogm.optimize()\n",
    "\n",
    "SynthesisIDsog = [\"rxn05294\", \"rxn05295\", \"rxn05296\",\"rxn10198\", \"rxn10200\", \"rxn10201\", \"bio00006\"]\n",
    "\n",
    "for reactionID in SynthesisIDsog:\n",
    "    print(\"Flux through reaction\", reactionID, \":\", iBsu1147ogm.reactions.get_by_id(reactionID).flux)"
   ]
  },
  {
   "cell_type": "code",
   "execution_count": null,
   "metadata": {},
   "outputs": [],
   "source": [
    "#Vekstrate:\n",
    "iBsu1147mann.reactions.get_by_id(\"bio00006new\").upper_bound = 0.443\n",
    "iBsu1147mann.reactions.get_by_id(\"bio00006new\").lower_bound = 0.379  #Model will not run with the measured growth rate. Setting the lower bound to 0 to see what the model suggests.\n",
    "\n",
    "iBsu1147mann.optimize()\n",
    "\n",
    "SynthesisIDs = [\"rxn05294new\", \"rxn05295new\", \"rxn05296new\",\"rxn10198new\", \"rxn10200new\", \"rxn10201new\", \"bio00006new\", \"cofactor\"]\n",
    "\n",
    "for reactionID in SynthesisIDs:\n",
    "    print(\"Flux through reaction\", reactionID, \":\", iBsu1147mann.reactions.get_by_id(reactionID).flux)"
   ]
  },
  {
   "cell_type": "code",
   "execution_count": null,
   "metadata": {},
   "outputs": [],
   "source": [
    "#Growth rate for model with original BOF:\n",
    "iBsu1147ogm.reactions.get_by_id(\"bio00006\").upper_bound = 0.443\n",
    "iBsu1147ogm.reactions.get_by_id(\"bio00006\").lower_bound = 0.379\n",
    "iBsu1147ogm.optimize()\n",
    "\n",
    "\n",
    "SynthesisIDsogm = [\"rxn05294\", \"rxn05295\", \"rxn05296\",\"rxn10198\", \"rxn10200\", \"rxn10201\", \"bio00006\"]\n",
    "\n",
    "for reactionID in SynthesisIDsogm:\n",
    "    print(\"Flux through reaction\", reactionID, \":\", iBsu1147ogm.reactions.get_by_id(reactionID).flux)"
   ]
  },
  {
   "cell_type": "code",
   "execution_count": null,
   "metadata": {},
   "outputs": [],
   "source": [
    "#Setting the experimentally measured fluxes\n",
    "import cobra\n",
    "\n",
    "#This function takes in the model and a dictionary of measured fluxes and updates the fluxes for the reactions. \n",
    "def update_fluxes_in_model(model, fluxes):\n",
    "    for reaction_id, flux in fluxes.items():\n",
    "        if reaction_id in model.reactions:\n",
    "            reaction = model.reactions.get_by_id(reaction_id)\n",
    "            lower_bound, upper_bound = flux  # Extract lower and upper bounds from the tuple\n",
    "            reaction.lower_bound = lower_bound\n",
    "            reaction.upper_bound = upper_bound\n",
    "            #print(f\"Flux updated for reaction ID {reaction_id}.\")\n",
    "        else:\n",
    "            print(f\"Reaction ID {reaction_id} not found in the model.\")\n",
    "\n",
    "\"\"\"\n",
    "Fluxes = {\"E00096\": (0, 1000), \"E00068\": (0, 1000), \"E00117\": (-4.78, 1000), \"E00046\": (0, 1000), \"E00017\": (0, 1000), \"E00012\":  (0, 3.01),\n",
    "          \"E00032\": (-0.013, 1000), \"E00009\": (-1.842, 1000), \"E00002\": (-5.6, 1000), \"E00004\": (0, 5.0), \"EX_Methanol[c]\": (0, 1000)}\n",
    "\n",
    "update_fluxes_in_model(iBsu1147mann, Fluxes)  # Update fluxes in the model using the Fluxes dictionary\n",
    "\n",
    "iBsu1147mann.optimize()\"\"\"\n"
   ]
  },
  {
   "cell_type": "code",
   "execution_count": 18,
   "metadata": {},
   "outputs": [
    {
     "data": {
      "text/plain": [
       "'\\nFluxes =  {\"E00096\": (0, 1000), \"E00068\": (0, 1000), \"E00117\": (-4.78, 1000), \"E00046\": (0, 1000), \"E00017\": (0, 1000), \"E00012\":  (0, 3.01),\\n          \"E00032\": (-0.013, 1000), \"E00009\": (-1.842, 1000), \"E00002\": (-5.6, 1000), \"E00004\": (0, 5.0), \"EX_Methanol[c]\": (0, 1000)}\\n\\nupdate_fluxes_in_model(iBsu1147ogm, Fluxes)  # Update fluxes in the model using the Fluxes dictionary\\n\\niBsu1147ogm.optimize()'"
      ]
     },
     "execution_count": 18,
     "metadata": {},
     "output_type": "execute_result"
    }
   ],
   "source": [
    "#Setting the experimentally measured fluxes for original model\n",
    "\n",
    "#This function takes in the model and a dictionary of measured fluxes and updates the fluxes for the reactions. \n",
    "def update_fluxes_in_model(model, fluxes):\n",
    "    for reaction_id, flux in fluxes.items():\n",
    "        if reaction_id in model.reactions:\n",
    "            reaction = model.reactions.get_by_id(reaction_id)\n",
    "            lower_bound, upper_bound = flux  # Extract lower and upper bounds from the tuple\n",
    "            reaction.lower_bound = lower_bound\n",
    "            reaction.upper_bound = upper_bound\n",
    "            #print(f\"Flux updated for reaction ID {reaction_id}.\")\n",
    "        else:\n",
    "            print(f\"Reaction ID {reaction_id} not found in the model.\")\n",
    "\n",
    "\"\"\"\n",
    "Fluxes =  {\"E00096\": (0, 1000), \"E00068\": (0, 1000), \"E00117\": (-4.78, 1000), \"E00046\": (0, 1000), \"E00017\": (0, 1000), \"E00012\":  (0, 3.01),\n",
    "          \"E00032\": (-0.013, 1000), \"E00009\": (-1.842, 1000), \"E00002\": (-5.6, 1000), \"E00004\": (0, 5.0), \"EX_Methanol[c]\": (0, 1000)}\n",
    "\n",
    "update_fluxes_in_model(iBsu1147ogm, Fluxes)  # Update fluxes in the model using the Fluxes dictionary\n",
    "\n",
    "iBsu1147ogm.optimize()\"\"\""
   ]
  },
  {
   "cell_type": "code",
   "execution_count": null,
   "metadata": {},
   "outputs": [],
   "source": [
    "import reframed \n",
    "from reframed import from_cobrapy\n",
    "from reframed import FBA\n",
    "from reframed import MOMA\n",
    "\n",
    "cbmodelmann = reframed.from_cobrapy(iBsu1147mann)\n",
    "\n",
    "#MOMA to get closest feasible solution because the model cannot run with the measured fluxes. \n",
    "Fluxes = {\"E00117\": -4.787, \"E00096\":0.0, \"E00068\":0.0, \"E00017\": 0.0, \"E00046\":0.0, \"E00012\":  3.01, \"E00032\": -0.013, \"E00009\": -1.842, \"E00002\": -5.6, \"E00004\": 5.0, \"EX_Methanol[c]\": 0.0, \"bio00006new\": 0.411}\n",
    "\n",
    "ReactionIDs = [\"rxn05294new\", \"rxn05295new\", \"rxn05296new\",\"rxn10198new\", \"rxn10200new\", \"rxn10201new\", \"bio00006new\", \"cofactor\", \"E00117\", \"E00012\", \"E00032\", \"E00009\", \"E00002\", \"E00004\"]\n",
    "\n",
    "modelMOMA = MOMA(cbmodelmann, reference= Fluxes, reactions=ReactionIDs)\n",
    "print(modelMOMA)\n",
    "for reactions in ReactionIDs:\n",
    "    print(modelMOMA.show_values(reactions))"
   ]
  },
  {
   "cell_type": "code",
   "execution_count": null,
   "metadata": {},
   "outputs": [],
   "source": [
    "#The new suggested fluxes from the MOMA analysis are:\n",
    "\n",
    "#Growth rate = 0.224\n",
    "iBsu1147mann.reactions.get_by_id(\"bio00006new\").upper_bound = 0.379\n",
    "iBsu1147mann.reactions.get_by_id(\"bio00006new\").lower_bound = 0.37   #infeasible if i lock both upper and lower bound at 0.379\n",
    "\n",
    "new_Fluxes = {\"E00096\": (0, 1000), \"E00068\": (0, 1000), \"E00117\": (-6.798, 1000), \"E00046\": (0, 1000), \"E00017\": (0, 1000), \"E00012\":  (0, 3.01),\n",
    "          \"E00032\": (-0.0158, 1000), \"E00009\": (-2.093, 1000), \"E00002\": (-9.119, 1000), \"E00004\": (0, 6.005), \"EX_Methanol[c]\": (0, 1000)}\n",
    "\n",
    "update_fluxes_in_model(iBsu1147mann, new_Fluxes)\n",
    "\n",
    "print(iBsu1147mann.optimize())\n",
    "\n",
    "cobra.io.write_sbml_model(iBsu1147mann, \"C:/Users/sofie/OneDrive/Documents/Master - Data/ModelMan.sbml\")\n",
    "\n",
    "\"\"\"\n",
    "#Running a FBA analysis with the MOMA-fluxes: \n",
    "cbmodelmann2 = reframed.from_cobrapy(iBsu1147mann)\n",
    "solmann2 = FBA(cbmodelmann2)\n",
    "#print(solmann2.show_values())\n",
    "\n",
    "SynthesisIDs = [\"rxn05294new\", \"rxn05295new\", \"rxn05296new\",\"rxn10198new\", \"rxn10200new\", \"rxn10201new\", \"bio00006new\", \"cofactor\",  \"E00096\", \"E00068\", \"E00017\", \"E00117\", \"E00046\", \"E00012\", \"E00008\", \"E00032\", \"E00009\", \"E00002\", \"E00004\"]\n",
    "\n",
    "for reactionID in SynthesisIDs:\n",
    "    flux = solmann2.values.get(reactionID)\n",
    "    print(reactionID, round(flux,6))\"\"\""
   ]
  },
  {
   "cell_type": "code",
   "execution_count": null,
   "metadata": {},
   "outputs": [],
   "source": [
    "#Performing a MOMA analysis for the model with the original BOF as well to get a feasible solution for further analysis.\n",
    "#MOMA to get closest feasible solution because the model cannot run with the measured fluxes. \n",
    "\n",
    "import reframed \n",
    "from reframed import from_cobrapy\n",
    "from reframed import FBA\n",
    "from reframed import MOMA\n",
    "\n",
    "\n",
    "cbmodelogmann = reframed.from_cobrapy(iBsu1147ogm)\n",
    "Fluxes = {\"E00117\": -4.787, \"E00096\":0.0, \"E00068\":0.0, \"E00017\": 0.0, \"E00046\":0.0, \"E00012\":  3.01, \"E00032\": -0.013, \"E00009\": -1.842, \"E00002\": -5.6, \"E00004\": 5.0, \"EX_Methanol[c]\": 0.0}\n",
    "\n",
    "ReactionIDs = [\"rxn05294\", \"rxn05295\", \"rxn05296\",\"rxn10198\", \"rxn10200\", \"rxn10201\", \"bio00006\", \"E00117\", \"E00012\", \"E00032\", \"E00009\", \"E00002\", \"E00004\"]\n",
    "\n",
    "modelMOMAog = MOMA(cbmodelogmann, reference= Fluxes, reactions=ReactionIDs)\n",
    "print(modelMOMAog)\n",
    "for reactions in ReactionIDs:\n",
    "    print(modelMOMAog.show_values(reactions))"
   ]
  },
  {
   "cell_type": "code",
   "execution_count": 21,
   "metadata": {},
   "outputs": [
    {
     "data": {
      "text/plain": [
       "'\\n#Running a FBA analysis with the MOMA-fluxes: \\ncbmodelmannog2 = reframed.from_cobrapy(iBsu1147ogm)\\nsolmannog2 = FBA(cbmodelmannog2)\\n#print(solcb.show_values())\\n\\nSynthesisIDs = [\"rxn05294\", \"rxn05295\", \"rxn05296\",\"rxn10198\", \"rxn10200\", \"rxn10201\", \"bio00006\",  \"E00096\", \"E00068\", \"E00017\", \"E00117\", \"E00046\", \"E00012\", \"E00008\", \"E00032\", \"E00009\", \"E00002\", \"E00004\"]\\n\\nfor reactionID in SynthesisIDs:\\n    flux = solmannog2.values.get(reactionID)\\n    print(reactionID, round(flux,6))'"
      ]
     },
     "execution_count": 21,
     "metadata": {},
     "output_type": "execute_result"
    }
   ],
   "source": [
    "#The new suggested fluxes from the MOMA analysis are:\n",
    "\n",
    "#Growth rate = 0.221\n",
    "iBsu1147ogm.reactions.get_by_id(\"bio00006\").upper_bound = 0.379\n",
    "iBsu1147ogm.reactions.get_by_id(\"bio00006\").lower_bound = 0.37\n",
    " \n",
    "new_Fluxesog = {\"E00096\": (0, 1000), \"E00068\": (0, 1000), \"E00117\": (-6.844, 1000), \"E00046\": (0, 1000), \"E00017\": (0, 1000), \"E00012\":  (0, 3.01),\n",
    "          \"E00032\": (-0.021, 1000), \"E00009\": (-2.099, 1000), \"E00002\": (-9.199, 1000), \"E00004\": (0, 6.028), \"EX_Methanol[c]\": (0, 1000)}\n",
    "\n",
    "update_fluxes_in_model(iBsu1147ogm, new_Fluxesog)\n",
    "iBsu1147ogm.optimize()\n",
    "\n",
    "#cobra.io.write_sbml_model(iBsu1147ogm, \"C:/Users/sofie/OneDrive/Documents/Master - Data/OGModelMan.sbml\")\n",
    "\n",
    "\"\"\"\n",
    "#Running a FBA analysis with the MOMA-fluxes: \n",
    "cbmodelmannog2 = reframed.from_cobrapy(iBsu1147ogm)\n",
    "solmannog2 = FBA(cbmodelmannog2)\n",
    "#print(solcb.show_values())\n",
    "\n",
    "SynthesisIDs = [\"rxn05294\", \"rxn05295\", \"rxn05296\",\"rxn10198\", \"rxn10200\", \"rxn10201\", \"bio00006\",  \"E00096\", \"E00068\", \"E00017\", \"E00117\", \"E00046\", \"E00012\", \"E00008\", \"E00032\", \"E00009\", \"E00002\", \"E00004\"]\n",
    "\n",
    "for reactionID in SynthesisIDs:\n",
    "    flux = solmannog2.values.get(reactionID)\n",
    "    print(reactionID, round(flux,6))\"\"\""
   ]
  }
 ],
 "metadata": {
  "kernelspec": {
   "display_name": "Python 3",
   "language": "python",
   "name": "python3"
  },
  "language_info": {
   "codemirror_mode": {
    "name": "ipython",
    "version": 3
   },
   "file_extension": ".py",
   "mimetype": "text/x-python",
   "name": "python",
   "nbconvert_exporter": "python",
   "pygments_lexer": "ipython3",
   "version": "3.9.9"
  },
  "orig_nbformat": 4
 },
 "nbformat": 4,
 "nbformat_minor": 2
}
